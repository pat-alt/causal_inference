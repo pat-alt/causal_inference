{
 "cells": [
  {
   "cell_type": "code",
   "execution_count": 1,
   "metadata": {},
   "outputs": [],
   "source": [
    "import pandas as pd\n",
    "import numpy as np\n",
    "import statsmodels.api as sm\n",
<<<<<<< HEAD
    "import matplotlib.pyplot as plt"
=======
    "import matplotlib.pyplot as plt\n",
    "import statsmodels.api as sm"
>>>>>>> 0e1adb208d8eb46eb5fb4375ce3b1ddbae0d2f0d
   ]
  },
  {
   "cell_type": "markdown",
   "metadata": {},
   "source": [
    "### Load data"
   ]
  },
  {
   "cell_type": "code",
   "execution_count": 2,
   "metadata": {},
   "outputs": [],
   "source": [
    "cps_controls = pd.read_stata('../dw_data/cps_controls.dta')\n",
<<<<<<< HEAD
    "\n",
=======
>>>>>>> 0e1adb208d8eb46eb5fb4375ce3b1ddbae0d2f0d
    "cps_controls2 = pd.read_stata('../dw_data/cps_controls2.dta')\n",
    "cps_controls3 = pd.read_stata('../dw_data/cps_controls3.dta')\n",
    "psid_controls = pd.read_stata('../dw_data/psid_controls.dta')\n",
    "psid_controls2 = pd.read_stata('../dw_data/psid_controls2.dta')\n",
    "psid_controls3 = pd.read_stata('../dw_data/psid_controls3.dta')\n",
    "nsw_dw = pd.read_stata('../dw_data/nsw_dw.dta')"
   ]
  },
  {
   "cell_type": "code",
<<<<<<< HEAD
   "execution_count": 4,
=======
   "execution_count": 3,
>>>>>>> 0e1adb208d8eb46eb5fb4375ce3b1ddbae0d2f0d
   "metadata": {},
   "outputs": [
    {
     "data": {
      "text/plain": [
       "0.0    260\n",
       "1.0    185\n",
       "Name: treat, dtype: int64"
      ]
     },
<<<<<<< HEAD
     "execution_count": 4,
=======
     "execution_count": 3,
>>>>>>> 0e1adb208d8eb46eb5fb4375ce3b1ddbae0d2f0d
     "metadata": {},
     "output_type": "execute_result"
    }
   ],
   "source": [
    "nsw_dw.treat.value_counts()"
   ]
  },
  {
   "cell_type": "code",
<<<<<<< HEAD
   "execution_count": 5,
=======
   "execution_count": 4,
>>>>>>> 0e1adb208d8eb46eb5fb4375ce3b1ddbae0d2f0d
   "metadata": {},
   "outputs": [],
   "source": [
    "#for dataset in [cps_controls, cps_controls2, cps_controls3, psid_controls, psid_controls2, psid_controls3, nsw_dw]:\n",
    "#    dataset.drop('data_id', axis=1, inplace=True)"
   ]
  },
  {
   "cell_type": "markdown",
   "metadata": {},
   "source": [
    "### cps 1-3:"
   ]
  },
  {
   "cell_type": "markdown",
   "metadata": {},
   "source": [
    "#### creating and defining covariates:"
   ]
  },
  {
   "cell_type": "code",
<<<<<<< HEAD
   "execution_count": 6,
   "metadata": {},
   "outputs": [],
   "source": [
    "def add_variables(df):\n",
    "    control_dataset = pd.concat([nsw_dw, df], axis=0)\n",
    "    control_dataset = control_dataset.reset_index(drop=True)\n",
    "\n",
    "    control_dataset['u74'] = control_dataset.re74.apply(lambda x: 1 if x == 0 else 0)\n",
    "    control_dataset['u75'] = control_dataset.re75.apply(lambda x: 1 if x == 0 else 0)\n",
    "\n",
    "    control_dataset['education_2'] = control_dataset.education**2\n",
    "    control_dataset['education_re74'] = control_dataset.education*control_dataset.re74\n",
    "\n",
    "    control_dataset['age_2'] = control_dataset.age**2\n",
    "    control_dataset['age_3'] = control_dataset.age**3\n",
    "    \n",
    "    control_dataset['re74_2'] = control_dataset.re74**2\n",
    "    control_dataset['re75_2'] = control_dataset.re75**2\n",
    "\n",
    "    control_dataset['u74_black'] = control_dataset.u74*control_dataset.black\n",
    "    \n",
    "    return control_dataset\n",
    "    "
=======
   "execution_count": 5,
   "metadata": {},
   "outputs": [],
   "source": [
    "cps_1 = pd.concat([nsw_dw, cps_controls], axis=0)\n",
    "cps_1 = cps_1.reset_index(drop=True)\n",
    "\n",
    "cps_1['u74'] = cps_1.re74.apply(lambda x: 1 if x == 0 else 0)\n",
    "cps_1['u75'] = cps_1.re75.apply(lambda x: 1 if x == 0 else 0)\n",
    "\n",
    "cps_1['education_2'] = cps_1.education**2\n",
    "cps_1['education_re74'] = cps_1.education*cps_1.re74\n",
    "\n",
    "cps_1['age_2'] = cps_1.age**2\n",
    "cps_1['age_3'] = cps_1.age**3"
>>>>>>> 0e1adb208d8eb46eb5fb4375ce3b1ddbae0d2f0d
   ]
  },
  {
   "cell_type": "code",
<<<<<<< HEAD
   "execution_count": 10,
   "metadata": {},
   "outputs": [],
   "source": [
    "cps_controls = add_variables(cps_controls)\n",
    "cps_controls2 = add_variables(cps_controls2)\n",
    "cps_controls3 = add_variables(cps_controls3)\n",
    "psid_controls = add_variables(psid_controls)\n",
    "psid_controls2 = add_variables(psid_controls2)\n",
    "psid_controls3 = add_variables(psid_controls3)\n",
    "\n",
    "cps_controls.name = 'cps1'\n",
    "cps_controls2.name = 'cps2'\n",
    "cps_controls3.name = 'cps3'\n",
    "psid_controls.name = 'psid1'\n",
    "psid_controls2.name = 'psid2'\n",
    "psid_controls3.name = 'psid3'"
=======
   "execution_count": 6,
   "metadata": {},
   "outputs": [],
   "source": [
    "covariates = ['age', 'age_2', 'education', 'education_2', 'nodegree', 'married', 'black', 'hispanic', 're74', 're75','u74', 'u75', 'education_re74', 'age_3']"
   ]
  },
  {
   "cell_type": "markdown",
   "metadata": {},
   "source": [
    "#### logistic regression to estimate propensity scores:"
>>>>>>> 0e1adb208d8eb46eb5fb4375ce3b1ddbae0d2f0d
   ]
  },
  {
   "cell_type": "code",
<<<<<<< HEAD
   "execution_count": 11,
   "metadata": {},
   "outputs": [],
   "source": [
    "covariates_cps = ['age', 'age_2', \n",
    "              'education', 'education_2', 'nodegree', \n",
    "              'married', 'black', 'hispanic', 're74', 're75',\n",
    "              'u74', 'u75', 'education_re74', 'age_3']\n",
    "\n",
    "covariates_psd1 = ['age', 'age_2', \n",
    "              'education', 'education_2', 'nodegree', \n",
    "              'married', 'black', 'hispanic', 're74', 're75', 're74_2', 're75_2',\n",
    "              'u74_black']\n",
    "\n",
    "covariates_psd23 = ['age', 'age_2', \n",
    "              'education', 'education_2', 'nodegree', \n",
    "              'married', 'black', 'hispanic', 're74', 're75', 're74_2', 're75_2',\n",
    "              'u74', 'u75']\n"
=======
   "execution_count": 7,
   "metadata": {},
   "outputs": [],
   "source": [
    "from sklearn.linear_model import LogisticRegression\n",
    "\n",
    "y = cps_1['treat']\n",
    "X = cps_1[covariates]\n",
    "\n",
    "logit = LogisticRegression()\n",
    "model = logit.fit(X, y)\n",
    "\n",
    "propensity = [n[1] for n in model.predict_proba(X)]\n",
    "\n",
    "cps_1['pscore'] = propensity"
>>>>>>> 0e1adb208d8eb46eb5fb4375ce3b1ddbae0d2f0d
   ]
  },
  {
   "cell_type": "markdown",
   "metadata": {},
   "source": [
<<<<<<< HEAD
    "#### logistic regression to estimate propensity scores:"
=======
    "#### perform matching based on propensity scores:"
>>>>>>> 0e1adb208d8eb46eb5fb4375ce3b1ddbae0d2f0d
   ]
  },
  {
   "cell_type": "code",
<<<<<<< HEAD
   "execution_count": 19,
   "metadata": {},
   "outputs": [
    {
     "name": "stdout",
     "output_type": "stream",
     "text": [
      "cps1\n",
      "att: 1401.109375\n",
      "\n",
      "\n",
      "cps2\n",
      "att: -154.47509765625\n",
      "\n",
      "\n",
      "cps3\n",
      "att: -118.02294921875\n",
      "\n",
      "\n",
      "psid1\n",
      "att: 1039.783203125\n",
      "\n",
      "\n",
      "psid2\n",
      "att: 2205.599609375\n",
      "\n",
      "\n",
      "psid3\n",
      "att: 1729.57568359375\n",
      "\n",
      "\n"
     ]
    }
   ],
   "source": [
    "from sklearn.linear_model import LogisticRegression\n",
    "from sklearn.preprocessing import StandardScaler\n",
    "from sklearn.neighbors import NearestNeighbors\n",
    "\n",
=======
   "execution_count": 8,
   "metadata": {},
   "outputs": [
    {
     "data": {
      "text/html": [
       "<div>\n",
       "<style scoped>\n",
       "    .dataframe tbody tr th:only-of-type {\n",
       "        vertical-align: middle;\n",
       "    }\n",
       "\n",
       "    .dataframe tbody tr th {\n",
       "        vertical-align: top;\n",
       "    }\n",
       "\n",
       "    .dataframe thead th {\n",
       "        text-align: right;\n",
       "    }\n",
       "</style>\n",
       "<table border=\"1\" class=\"dataframe\">\n",
       "  <thead>\n",
       "    <tr style=\"text-align: right;\">\n",
       "      <th></th>\n",
       "      <th>data_id</th>\n",
       "      <th>treat</th>\n",
       "      <th>age</th>\n",
       "      <th>education</th>\n",
       "      <th>black</th>\n",
       "      <th>hispanic</th>\n",
       "      <th>married</th>\n",
       "      <th>nodegree</th>\n",
       "      <th>re74</th>\n",
       "      <th>re75</th>\n",
       "      <th>re78</th>\n",
       "      <th>u74</th>\n",
       "      <th>u75</th>\n",
       "      <th>education_2</th>\n",
       "      <th>education_re74</th>\n",
       "      <th>age_2</th>\n",
       "      <th>age_3</th>\n",
       "      <th>pscore</th>\n",
       "    </tr>\n",
       "  </thead>\n",
       "  <tbody>\n",
       "    <tr>\n",
       "      <th>0</th>\n",
       "      <td>Dehejia-Wahba Sample</td>\n",
       "      <td>1.0</td>\n",
       "      <td>37.0</td>\n",
       "      <td>11.0</td>\n",
       "      <td>1.0</td>\n",
       "      <td>0.0</td>\n",
       "      <td>1.0</td>\n",
       "      <td>1.0</td>\n",
       "      <td>0.000000</td>\n",
       "      <td>0.000000</td>\n",
       "      <td>9930.045898</td>\n",
       "      <td>1</td>\n",
       "      <td>1</td>\n",
       "      <td>121.0</td>\n",
       "      <td>0.000000</td>\n",
       "      <td>1369.0</td>\n",
       "      <td>50653.0</td>\n",
       "      <td>0.041652</td>\n",
       "    </tr>\n",
       "    <tr>\n",
       "      <th>1</th>\n",
       "      <td>Dehejia-Wahba Sample</td>\n",
       "      <td>1.0</td>\n",
       "      <td>22.0</td>\n",
       "      <td>9.0</td>\n",
       "      <td>0.0</td>\n",
       "      <td>1.0</td>\n",
       "      <td>0.0</td>\n",
       "      <td>1.0</td>\n",
       "      <td>0.000000</td>\n",
       "      <td>0.000000</td>\n",
       "      <td>3595.894043</td>\n",
       "      <td>1</td>\n",
       "      <td>1</td>\n",
       "      <td>81.0</td>\n",
       "      <td>0.000000</td>\n",
       "      <td>484.0</td>\n",
       "      <td>10648.0</td>\n",
       "      <td>0.154856</td>\n",
       "    </tr>\n",
       "    <tr>\n",
       "      <th>2</th>\n",
       "      <td>Dehejia-Wahba Sample</td>\n",
       "      <td>1.0</td>\n",
       "      <td>30.0</td>\n",
       "      <td>12.0</td>\n",
       "      <td>1.0</td>\n",
       "      <td>0.0</td>\n",
       "      <td>0.0</td>\n",
       "      <td>0.0</td>\n",
       "      <td>0.000000</td>\n",
       "      <td>0.000000</td>\n",
       "      <td>24909.449219</td>\n",
       "      <td>1</td>\n",
       "      <td>1</td>\n",
       "      <td>144.0</td>\n",
       "      <td>0.000000</td>\n",
       "      <td>900.0</td>\n",
       "      <td>27000.0</td>\n",
       "      <td>0.035128</td>\n",
       "    </tr>\n",
       "    <tr>\n",
       "      <th>3</th>\n",
       "      <td>Dehejia-Wahba Sample</td>\n",
       "      <td>1.0</td>\n",
       "      <td>27.0</td>\n",
       "      <td>11.0</td>\n",
       "      <td>1.0</td>\n",
       "      <td>0.0</td>\n",
       "      <td>0.0</td>\n",
       "      <td>1.0</td>\n",
       "      <td>0.000000</td>\n",
       "      <td>0.000000</td>\n",
       "      <td>7506.145996</td>\n",
       "      <td>1</td>\n",
       "      <td>1</td>\n",
       "      <td>121.0</td>\n",
       "      <td>0.000000</td>\n",
       "      <td>729.0</td>\n",
       "      <td>19683.0</td>\n",
       "      <td>0.063556</td>\n",
       "    </tr>\n",
       "    <tr>\n",
       "      <th>4</th>\n",
       "      <td>Dehejia-Wahba Sample</td>\n",
       "      <td>1.0</td>\n",
       "      <td>33.0</td>\n",
       "      <td>8.0</td>\n",
       "      <td>1.0</td>\n",
       "      <td>0.0</td>\n",
       "      <td>0.0</td>\n",
       "      <td>1.0</td>\n",
       "      <td>0.000000</td>\n",
       "      <td>0.000000</td>\n",
       "      <td>289.789886</td>\n",
       "      <td>1</td>\n",
       "      <td>1</td>\n",
       "      <td>64.0</td>\n",
       "      <td>0.000000</td>\n",
       "      <td>1089.0</td>\n",
       "      <td>35937.0</td>\n",
       "      <td>0.178721</td>\n",
       "    </tr>\n",
       "    <tr>\n",
       "      <th>...</th>\n",
       "      <td>...</td>\n",
       "      <td>...</td>\n",
       "      <td>...</td>\n",
       "      <td>...</td>\n",
       "      <td>...</td>\n",
       "      <td>...</td>\n",
       "      <td>...</td>\n",
       "      <td>...</td>\n",
       "      <td>...</td>\n",
       "      <td>...</td>\n",
       "      <td>...</td>\n",
       "      <td>...</td>\n",
       "      <td>...</td>\n",
       "      <td>...</td>\n",
       "      <td>...</td>\n",
       "      <td>...</td>\n",
       "      <td>...</td>\n",
       "      <td>...</td>\n",
       "    </tr>\n",
       "    <tr>\n",
       "      <th>16432</th>\n",
       "      <td>CPS1</td>\n",
       "      <td>0.0</td>\n",
       "      <td>22.0</td>\n",
       "      <td>12.0</td>\n",
       "      <td>1.0</td>\n",
       "      <td>0.0</td>\n",
       "      <td>0.0</td>\n",
       "      <td>0.0</td>\n",
       "      <td>3975.352051</td>\n",
       "      <td>6801.435059</td>\n",
       "      <td>2757.437988</td>\n",
       "      <td>0</td>\n",
       "      <td>0</td>\n",
       "      <td>144.0</td>\n",
       "      <td>47704.226562</td>\n",
       "      <td>484.0</td>\n",
       "      <td>10648.0</td>\n",
       "      <td>0.007435</td>\n",
       "    </tr>\n",
       "    <tr>\n",
       "      <th>16433</th>\n",
       "      <td>CPS1</td>\n",
       "      <td>0.0</td>\n",
       "      <td>20.0</td>\n",
       "      <td>12.0</td>\n",
       "      <td>1.0</td>\n",
       "      <td>0.0</td>\n",
       "      <td>1.0</td>\n",
       "      <td>0.0</td>\n",
       "      <td>1445.938965</td>\n",
       "      <td>11832.240234</td>\n",
       "      <td>6895.071777</td>\n",
       "      <td>0</td>\n",
       "      <td>0</td>\n",
       "      <td>144.0</td>\n",
       "      <td>17351.267578</td>\n",
       "      <td>400.0</td>\n",
       "      <td>8000.0</td>\n",
       "      <td>0.002221</td>\n",
       "    </tr>\n",
       "    <tr>\n",
       "      <th>16434</th>\n",
       "      <td>CPS1</td>\n",
       "      <td>0.0</td>\n",
       "      <td>37.0</td>\n",
       "      <td>12.0</td>\n",
       "      <td>0.0</td>\n",
       "      <td>0.0</td>\n",
       "      <td>0.0</td>\n",
       "      <td>0.0</td>\n",
       "      <td>1733.951050</td>\n",
       "      <td>1559.370972</td>\n",
       "      <td>4221.865234</td>\n",
       "      <td>0</td>\n",
       "      <td>0</td>\n",
       "      <td>144.0</td>\n",
       "      <td>20807.412109</td>\n",
       "      <td>1369.0</td>\n",
       "      <td>50653.0</td>\n",
       "      <td>0.016622</td>\n",
       "    </tr>\n",
       "    <tr>\n",
       "      <th>16435</th>\n",
       "      <td>CPS1</td>\n",
       "      <td>0.0</td>\n",
       "      <td>47.0</td>\n",
       "      <td>9.0</td>\n",
       "      <td>0.0</td>\n",
       "      <td>0.0</td>\n",
       "      <td>1.0</td>\n",
       "      <td>1.0</td>\n",
       "      <td>16914.349609</td>\n",
       "      <td>11384.660156</td>\n",
       "      <td>13671.929688</td>\n",
       "      <td>0</td>\n",
       "      <td>0</td>\n",
       "      <td>81.0</td>\n",
       "      <td>152229.140625</td>\n",
       "      <td>2209.0</td>\n",
       "      <td>103823.0</td>\n",
       "      <td>0.000412</td>\n",
       "    </tr>\n",
       "    <tr>\n",
       "      <th>16436</th>\n",
       "      <td>CPS1</td>\n",
       "      <td>0.0</td>\n",
       "      <td>40.0</td>\n",
       "      <td>10.0</td>\n",
       "      <td>0.0</td>\n",
       "      <td>0.0</td>\n",
       "      <td>0.0</td>\n",
       "      <td>1.0</td>\n",
       "      <td>13628.660156</td>\n",
       "      <td>13144.549805</td>\n",
       "      <td>7979.724121</td>\n",
       "      <td>0</td>\n",
       "      <td>0</td>\n",
       "      <td>100.0</td>\n",
       "      <td>136286.593750</td>\n",
       "      <td>1600.0</td>\n",
       "      <td>64000.0</td>\n",
       "      <td>0.000879</td>\n",
       "    </tr>\n",
       "  </tbody>\n",
       "</table>\n",
       "<p>16437 rows × 18 columns</p>\n",
       "</div>"
      ],
      "text/plain": [
       "                    data_id  treat   age  education  black  hispanic  married  \\\n",
       "0      Dehejia-Wahba Sample    1.0  37.0       11.0    1.0       0.0      1.0   \n",
       "1      Dehejia-Wahba Sample    1.0  22.0        9.0    0.0       1.0      0.0   \n",
       "2      Dehejia-Wahba Sample    1.0  30.0       12.0    1.0       0.0      0.0   \n",
       "3      Dehejia-Wahba Sample    1.0  27.0       11.0    1.0       0.0      0.0   \n",
       "4      Dehejia-Wahba Sample    1.0  33.0        8.0    1.0       0.0      0.0   \n",
       "...                     ...    ...   ...        ...    ...       ...      ...   \n",
       "16432                  CPS1    0.0  22.0       12.0    1.0       0.0      0.0   \n",
       "16433                  CPS1    0.0  20.0       12.0    1.0       0.0      1.0   \n",
       "16434                  CPS1    0.0  37.0       12.0    0.0       0.0      0.0   \n",
       "16435                  CPS1    0.0  47.0        9.0    0.0       0.0      1.0   \n",
       "16436                  CPS1    0.0  40.0       10.0    0.0       0.0      0.0   \n",
       "\n",
       "       nodegree          re74          re75          re78  u74  u75  \\\n",
       "0           1.0      0.000000      0.000000   9930.045898    1    1   \n",
       "1           1.0      0.000000      0.000000   3595.894043    1    1   \n",
       "2           0.0      0.000000      0.000000  24909.449219    1    1   \n",
       "3           1.0      0.000000      0.000000   7506.145996    1    1   \n",
       "4           1.0      0.000000      0.000000    289.789886    1    1   \n",
       "...         ...           ...           ...           ...  ...  ...   \n",
       "16432       0.0   3975.352051   6801.435059   2757.437988    0    0   \n",
       "16433       0.0   1445.938965  11832.240234   6895.071777    0    0   \n",
       "16434       0.0   1733.951050   1559.370972   4221.865234    0    0   \n",
       "16435       1.0  16914.349609  11384.660156  13671.929688    0    0   \n",
       "16436       1.0  13628.660156  13144.549805   7979.724121    0    0   \n",
       "\n",
       "       education_2  education_re74   age_2     age_3    pscore  \n",
       "0            121.0        0.000000  1369.0   50653.0  0.041652  \n",
       "1             81.0        0.000000   484.0   10648.0  0.154856  \n",
       "2            144.0        0.000000   900.0   27000.0  0.035128  \n",
       "3            121.0        0.000000   729.0   19683.0  0.063556  \n",
       "4             64.0        0.000000  1089.0   35937.0  0.178721  \n",
       "...            ...             ...     ...       ...       ...  \n",
       "16432        144.0    47704.226562   484.0   10648.0  0.007435  \n",
       "16433        144.0    17351.267578   400.0    8000.0  0.002221  \n",
       "16434        144.0    20807.412109  1369.0   50653.0  0.016622  \n",
       "16435         81.0   152229.140625  2209.0  103823.0  0.000412  \n",
       "16436        100.0   136286.593750  1600.0   64000.0  0.000879  \n",
       "\n",
       "[16437 rows x 18 columns]"
      ]
     },
     "execution_count": 8,
     "metadata": {},
     "output_type": "execute_result"
    }
   ],
   "source": [
    "cps_1"
   ]
  },
  {
   "cell_type": "code",
   "execution_count": 24,
   "metadata": {},
   "outputs": [],
   "source": [
    "from sklearn.preprocessing import StandardScaler\n",
    "from sklearn.neighbors import NearestNeighbors\n",
    "\n",
    "# the experimental controls are assigned to treatment as they are from the same distribution as treated\n",
    "# (Deheija & Wahba p. 1057 bottom left)\n",
    "\n",
    "treated_df = cps_1[cps_1.data_id=='Dehejia-Wahba Sample'].reset_index(drop=True)\n",
    "non_treated_df = cps_1[cps_1.data_id=='CPS1'].reset_index(drop=True)\n",
>>>>>>> 0e1adb208d8eb46eb5fb4375ce3b1ddbae0d2f0d
    "\n",
    "def get_matching_pairs(treated_df, non_treated_df, scaler=True):\n",
    "\n",
    "    treated_x = treated_df.pscore.values\n",
    "    non_treated_x = non_treated_df.pscore.values\n",
    "\n",
    "    nbrs = NearestNeighbors(n_neighbors=1).fit(non_treated_x.reshape(-1, 1))\n",
    "    distances, indices = nbrs.kneighbors(treated_x.reshape(-1, 1))\n",
    "    indices = indices.reshape(indices.shape[0])\n",
    "    matched = non_treated_df.loc[indices]\n",
<<<<<<< HEAD
    "    return matched\n",
    "\n",
    "\n",
    "for control_dataset in [cps_controls, cps_controls2, cps_controls3, psid_controls, psid_controls2, psid_controls3]: \n",
    "    if control_dataset.name == psid_controls.name:\n",
    "        covariates = covariates_psd1\n",
    "    elif control_dataset.name in [psid_controls2.name, psid_controls3.name]:\n",
    "        covariates = covariates_psd23\n",
    "    elif control_dataset.name in [cps_controls.name, cps_controls2.name, cps_controls3.name]:\n",
    "        covariates = covariates_cps\n",
    "\n",
    "    y = control_dataset['treat']\n",
    "    X = control_dataset[covariates]\n",
    "\n",
    "    logit = LogisticRegression(random_state=5, max_iter=100)\n",
    "    model = logit.fit(X, y)\n",
    "\n",
    "    propensity = [n[1] for n in model.predict_proba(X)]\n",
    "\n",
    "    control_dataset['pscore'] = propensity\n",
    "    \n",
    "\n",
    "#### perform matching based on propensity scores: ####\n",
    "\n",
    "    # the experimental controls are assigned to treatment as they are from the same distribution as treated\n",
    "    # (Deheija & Wahba p. 1057 bottom left)\n",
    "    treated_df = control_dataset[control_dataset.data_id=='Dehejia-Wahba Sample'].reset_index(drop=True)\n",
    "    non_treated_df = control_dataset[control_dataset.data_id!='Dehejia-Wahba Sample'].reset_index(drop=True)\n",
    "\n",
    "    \n",
    "    matched_df = get_matching_pairs(treated_df, non_treated_df)\n",
    "    \n",
    "    treated_df['re78_cf'] = matched_df.re78.values\n",
    "    \n",
    "#### compute att:\n",
    "    att = treated_df[treated_df['treat']==1]['re78'].mean() - treated_df[treated_df['treat']==1]['re78_cf'].mean()\n",
    "    print(control_dataset.name)\n",
    "    print(f'att: {att}')\n",
    "    print('\\n')"
=======
    "    return matched"
>>>>>>> 0e1adb208d8eb46eb5fb4375ce3b1ddbae0d2f0d
   ]
  },
  {
   "cell_type": "code",
<<<<<<< HEAD
   "execution_count": 74,
   "metadata": {
    "scrolled": true
   },
   "outputs": [],
   "source": [
    "# testing pscores:\n",
    "#matched_df.pscore.values - treated_df.pscore.values < 0.05"
=======
   "execution_count": 25,
   "metadata": {},
   "outputs": [],
   "source": [
    "matched_df = get_matching_pairs(treated_df, non_treated_df)"
   ]
  },
  {
   "cell_type": "code",
   "execution_count": 26,
   "metadata": {},
   "outputs": [],
   "source": [
    "treated_df['re78_cf'] = matched_df.re78.values"
   ]
  },
  {
   "cell_type": "code",
   "execution_count": 29,
   "metadata": {},
   "outputs": [
    {
     "data": {
      "text/plain": [
       "array([ True,  True,  True,  True,  True,  True,  True,  True,  True,\n",
       "        True,  True,  True,  True,  True,  True,  True,  True,  True,\n",
       "        True,  True,  True,  True,  True,  True,  True,  True,  True,\n",
       "        True,  True,  True,  True,  True,  True,  True,  True,  True,\n",
       "        True,  True,  True,  True,  True,  True,  True,  True,  True,\n",
       "        True,  True,  True,  True,  True,  True,  True,  True,  True,\n",
       "        True,  True,  True,  True,  True,  True,  True,  True,  True,\n",
       "        True,  True,  True,  True,  True,  True,  True,  True,  True,\n",
       "        True,  True,  True,  True,  True,  True,  True,  True,  True,\n",
       "        True,  True,  True,  True,  True,  True,  True,  True,  True,\n",
       "        True,  True,  True,  True,  True,  True,  True,  True,  True,\n",
       "        True,  True,  True,  True,  True,  True,  True,  True,  True,\n",
       "        True,  True,  True,  True,  True,  True,  True,  True,  True,\n",
       "        True,  True,  True,  True,  True,  True,  True,  True,  True,\n",
       "        True,  True,  True,  True,  True,  True,  True,  True,  True,\n",
       "        True,  True,  True,  True,  True,  True,  True,  True,  True,\n",
       "        True,  True,  True,  True,  True,  True,  True,  True,  True,\n",
       "        True,  True,  True,  True,  True,  True,  True,  True,  True,\n",
       "        True,  True,  True,  True,  True,  True,  True,  True,  True,\n",
       "        True,  True,  True,  True,  True,  True,  True,  True,  True,\n",
       "        True,  True,  True,  True,  True,  True,  True,  True,  True,\n",
       "        True,  True,  True,  True,  True,  True,  True,  True,  True,\n",
       "        True,  True,  True,  True,  True,  True,  True,  True,  True,\n",
       "        True,  True,  True,  True,  True,  True,  True,  True,  True,\n",
       "        True,  True,  True,  True,  True,  True,  True,  True,  True,\n",
       "        True,  True,  True,  True,  True,  True,  True,  True,  True,\n",
       "        True,  True,  True,  True,  True,  True,  True,  True,  True,\n",
       "        True,  True,  True,  True,  True,  True,  True,  True,  True,\n",
       "        True,  True,  True,  True,  True,  True,  True,  True,  True,\n",
       "        True,  True,  True,  True,  True,  True,  True,  True,  True,\n",
       "        True,  True,  True,  True,  True,  True,  True,  True,  True,\n",
       "        True,  True,  True,  True,  True,  True,  True,  True,  True,\n",
       "        True,  True,  True,  True,  True,  True,  True,  True,  True,\n",
       "        True,  True,  True,  True,  True,  True,  True,  True,  True,\n",
       "        True,  True,  True,  True,  True,  True,  True,  True,  True,\n",
       "        True,  True,  True,  True,  True,  True,  True,  True,  True,\n",
       "        True,  True,  True,  True,  True,  True,  True,  True,  True,\n",
       "        True,  True,  True,  True,  True,  True,  True,  True,  True,\n",
       "        True,  True,  True,  True,  True,  True,  True,  True,  True,\n",
       "        True,  True,  True,  True,  True,  True,  True,  True,  True,\n",
       "        True,  True,  True,  True,  True,  True,  True,  True,  True,\n",
       "        True,  True,  True,  True,  True,  True,  True,  True,  True,\n",
       "        True,  True,  True,  True,  True,  True,  True,  True,  True,\n",
       "        True,  True,  True,  True,  True,  True,  True,  True,  True,\n",
       "        True,  True,  True,  True,  True,  True,  True,  True,  True,\n",
       "        True,  True,  True,  True,  True,  True,  True,  True,  True,\n",
       "        True,  True,  True,  True,  True,  True,  True,  True,  True,\n",
       "        True,  True,  True,  True,  True,  True,  True,  True,  True,\n",
       "        True,  True,  True,  True,  True,  True,  True,  True,  True,\n",
       "        True,  True,  True,  True])"
      ]
     },
     "execution_count": 29,
     "metadata": {},
     "output_type": "execute_result"
    }
   ],
   "source": [
    "# testing pscores:\n",
    "matched_df.pscore.values - treated_df.pscore.values < 0.05"
   ]
  },
  {
   "cell_type": "markdown",
   "metadata": {},
   "source": [
    "#### compute att:"
>>>>>>> 0e1adb208d8eb46eb5fb4375ce3b1ddbae0d2f0d
   ]
  },
  {
   "cell_type": "code",
<<<<<<< HEAD
   "execution_count": 60,
=======
   "execution_count": null,
   "metadata": {},
   "outputs": [],
   "source": []
  },
  {
   "cell_type": "code",
   "execution_count": 20,
>>>>>>> 0e1adb208d8eb46eb5fb4375ce3b1ddbae0d2f0d
   "metadata": {},
   "outputs": [],
   "source": [
    "#X = treated_df['pscore'].values\n",
    "#y = treated_df['re78'].values\n",
    "#X = sm.add_constant(X.ravel())\n",
    "#\n",
    "#results = sm.OLS(y,X).fit()\n",
    "#print(f'coefficient: {results.params[0]}')\n",
    "#print(f'standard error: {results.bse[0]}')"
   ]
<<<<<<< HEAD
=======
  },
  {
   "cell_type": "code",
   "execution_count": 23,
   "metadata": {},
   "outputs": [
    {
     "data": {
      "text/plain": [
       "811.10546875"
      ]
     },
     "execution_count": 23,
     "metadata": {},
     "output_type": "execute_result"
    }
   ],
   "source": [
    "treated_df[treated_df['treat']==1]['re78'].mean() - treated_df[treated_df['treat']==1]['re78_cf'].mean()"
   ]
  },
  {
   "cell_type": "code",
   "execution_count": null,
   "metadata": {},
   "outputs": [],
   "source": []
>>>>>>> 0e1adb208d8eb46eb5fb4375ce3b1ddbae0d2f0d
  }
 ],
 "metadata": {
  "kernelspec": {
   "display_name": "Python 3",
   "language": "python",
   "name": "python3"
  },
  "language_info": {
   "codemirror_mode": {
    "name": "ipython",
    "version": 3
   },
   "file_extension": ".py",
   "mimetype": "text/x-python",
   "name": "python",
   "nbconvert_exporter": "python",
   "pygments_lexer": "ipython3",
   "version": "3.7.6"
  },
  "toc": {
   "base_numbering": 1,
   "nav_menu": {},
   "number_sections": true,
   "sideBar": true,
   "skip_h1_title": false,
   "title_cell": "Table of Contents",
   "title_sidebar": "Contents",
   "toc_cell": false,
   "toc_position": {},
   "toc_section_display": true,
   "toc_window_display": false
  }
 },
 "nbformat": 4,
 "nbformat_minor": 4
}
