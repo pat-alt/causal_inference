{
 "cells": [
  {
   "cell_type": "code",
   "execution_count": 44,
   "metadata": {},
   "outputs": [],
   "source": [
    "import pandas as pd\n",
    "import numpy as np\n",
    "import statsmodels.api as sm"
   ]
  },
  {
   "cell_type": "code",
   "execution_count": 2,
   "metadata": {},
   "outputs": [],
   "source": [
    "data = pd.read_stata('data_1.dta')"
   ]
  },
  {
   "cell_type": "markdown",
   "metadata": {},
   "source": [
    "#### 1.1"
   ]
  },
  {
   "cell_type": "code",
   "execution_count": 3,
   "metadata": {},
   "outputs": [],
   "source": [
    "data = data.dropna(how='all', subset=['treatp', 'treatnp'])"
   ]
  },
  {
   "cell_type": "code",
   "execution_count": 4,
   "metadata": {},
   "outputs": [],
   "source": [
    "poor = data[~data.treatp.isna()]\n",
    "nonpoor = data[~data.treatnp.isna()]"
   ]
  },
  {
   "cell_type": "code",
   "execution_count": 14,
   "metadata": {},
   "outputs": [],
   "source": [
    "# split poor and non-poor:\n",
    "npr = nonpoor.groupby(['time', 'treatnp'])['consump'].mean()\n",
    "pr = poor.groupby(['time', 'treatp'])['consump'].mean()"
   ]
  },
  {
   "cell_type": "code",
   "execution_count": 79,
   "metadata": {},
   "outputs": [
    {
     "name": "stdout",
     "output_type": "stream",
     "text": [
      "time  treatnp\n",
      "8     1.0        -6.237778\n",
      "9     1.0        19.368240\n",
      "10    1.0        17.363739\n",
      "Name: consump, dtype: float32\n",
      "\n",
      "\n",
      "time  treatp\n",
      "8     1.0       15.840271\n",
      "9     1.0       25.739944\n",
      "10    1.0       30.609909\n",
      "Name: consump, dtype: float32\n"
     ]
    }
   ],
   "source": [
    "# ITE / ATE\n",
    "print(npr.groupby('time').diff().dropna())\n",
    "print('\\n')\n",
    "print(pr.groupby('time').diff().dropna())"
   ]
  },
  {
   "cell_type": "code",
   "execution_count": 85,
   "metadata": {},
   "outputs": [
    {
     "name": "stdout",
     "output_type": "stream",
     "text": [
      "-6.23777357848297\n",
      "19.368245356089105\n",
      "17.363729818841982\n",
      "\n",
      "\n",
      "15.840269814660573\n",
      "25.739942246725608\n",
      "30.609912387630725\n"
     ]
    }
   ],
   "source": [
    "# OLS with sklearn:\n",
    "from sklearn.linear_model import LinearRegression\n",
    "regr = LinearRegression()\n",
    "\n",
    "for r in nonpoor.groupby('time'):\n",
    "    X = r[1].treatnp.values.reshape(-1, 1)\n",
    "    y = r[1].consump.values\n",
    "\n",
    "    reg = regr.fit(X, y)\n",
    "    print(reg.coef_[0])\n",
    "    \n",
    "print('\\n')\n",
    "\n",
    "for r in poor.groupby('time'):\n",
    "    X = r[1].treatp.values.reshape(-1, 1)\n",
    "    y = r[1].consump.values\n",
    "\n",
    "    reg = regr.fit(X, y)\n",
    "    print(reg.coef_[0])"
   ]
  },
  {
   "cell_type": "code",
   "execution_count": 98,
   "metadata": {},
   "outputs": [
    {
     "name": "stdout",
     "output_type": "stream",
     "text": [
      "time: 8\n",
      "coefficient: -6.237773578483137\n",
      "standard error: 6.872664630482705\n",
      "\n",
      "\n",
      "time: 9\n",
      "coefficient: 19.368245356089144\n",
      "standard error: 9.665845049851379\n",
      "\n",
      "\n",
      "time: 10\n",
      "coefficient: 17.36372981884209\n",
      "standard error: 9.878562367785348\n",
      "\n",
      "\n"
     ]
    }
   ],
   "source": [
    "# statsmodels \n",
    "\n",
    "# OLS for ITE\n",
    "for r in nonpoor.groupby('time'):  \n",
    "    X = r[1].treatnp.values\n",
    "    y = r[1].consump.values\n",
    "    X = sm.add_constant(X.ravel())\n",
    "    villages = r[1].local.values\n",
    "\n",
    "    results = sm.OLS(y,X).fit(cov_type='cluster', cov_kwds={'groups':villages})\n",
    "    print(f'time: {r[0]}')\n",
    "    print(f'coefficient: {results.params[1]}')\n",
    "    print(f'standard error: {results.bse[1]}')\n",
    "    print('\\n')"
   ]
  },
  {
   "cell_type": "code",
   "execution_count": 99,
   "metadata": {},
   "outputs": [
    {
     "name": "stdout",
     "output_type": "stream",
     "text": [
      "time: 8\n",
      "coefficient: 15.840269814661028\n",
      "standard error: 4.28674979861519\n",
      "\n",
      "\n",
      "time: 9\n",
      "coefficient: 25.739942246726507\n",
      "standard error: 5.795239754124136\n",
      "\n",
      "\n",
      "time: 10\n",
      "coefficient: 30.609912387630846\n",
      "standard error: 5.163827804279433\n",
      "\n",
      "\n"
     ]
    }
   ],
   "source": [
    "# OLS for ATE\n",
    "for r in poor.groupby('time'):  \n",
    "    X = r[1].treatp.values\n",
    "    y = r[1].consump.values\n",
    "    X = sm.add_constant(X.ravel())\n",
    "    villages = r[1].local.values\n",
    "\n",
    "    results = sm.OLS(y,X).fit(cov_type='cluster', cov_kwds={'groups':villages})\n",
    "    print(f'time: {r[0]}')\n",
    "    print(f'coefficient: {results.params[1]}')\n",
    "    print(f'standard error: {results.bse[1]}')\n",
    "    print('\\n')"
   ]
  }
 ],
 "metadata": {
  "kernelspec": {
   "display_name": "Python 3",
   "language": "python",
   "name": "python3"
  },
  "language_info": {
   "codemirror_mode": {
    "name": "ipython",
    "version": 3
   },
   "file_extension": ".py",
   "mimetype": "text/x-python",
   "name": "python",
   "nbconvert_exporter": "python",
   "pygments_lexer": "ipython3",
   "version": "3.7.6"
  },
  "toc": {
   "base_numbering": 1,
   "nav_menu": {},
   "number_sections": true,
   "sideBar": true,
   "skip_h1_title": false,
   "title_cell": "Table of Contents",
   "title_sidebar": "Contents",
   "toc_cell": false,
   "toc_position": {},
   "toc_section_display": true,
   "toc_window_display": false
  }
 },
 "nbformat": 4,
 "nbformat_minor": 4
}
