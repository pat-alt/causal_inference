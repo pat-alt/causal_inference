{
 "cells": [
  {
   "cell_type": "markdown",
   "metadata": {},
   "source": [
    "# Problem Set 2"
   ]
  },
  {
   "cell_type": "markdown",
   "metadata": {},
   "source": [
    "We might need to install some packages\n",
    "\n",
    "$\\newcommand\\ci{\\perp\\mkern-10mu\\perp}$\n",
    "$\\newcommand{\\nci}{\\not\\!\\perp\\!\\!\\!\\perp}$\n",
    "$\\newcommand{\\E}{\\mathbb{E}}$\n"
   ]
  },
  {
   "cell_type": "code",
   "execution_count": 1,
   "metadata": {},
   "outputs": [],
   "source": [
    "#!pip install linearmodels"
   ]
  },
  {
   "cell_type": "code",
   "execution_count": 2,
   "metadata": {},
   "outputs": [],
   "source": [
    "import pandas as pd\n",
    "import numpy as np\n",
    "import statsmodels.api as sm"
   ]
  },
  {
   "cell_type": "markdown",
   "metadata": {},
   "source": [
    "Data preparation"
   ]
  },
  {
   "cell_type": "code",
   "execution_count": 3,
   "metadata": {},
   "outputs": [],
   "source": [
    "data = pd.read_stata('problemset2.dta')\n",
    "data['eligible'] = data['eligible'].astype(float)\n",
    "\n",
    "Y = data['earnings']\n",
    "X = data['veteran']\n",
    "X = sm.add_constant(X)"
   ]
  },
  {
   "cell_type": "markdown",
   "metadata": {},
   "source": [
    "## Exercise 1"
   ]
  },
  {
   "cell_type": "markdown",
   "metadata": {},
   "source": [
    "Regression of \"future earning\" on \"veteran status\" dummy"
   ]
  },
  {
   "cell_type": "code",
   "execution_count": 4,
   "metadata": {
    "scrolled": true
   },
   "outputs": [
    {
     "name": "stdout",
     "output_type": "stream",
     "text": [
      "                            OLS Regression Results                            \n",
      "==============================================================================\n",
      "Dep. Variable:               earnings   R-squared:                       0.002\n",
      "Model:                            OLS   Adj. R-squared:                  0.001\n",
      "Method:                 Least Squares   F-statistic:                     5.359\n",
      "Date:                Wed, 03 Feb 2021   Prob (F-statistic):             0.0207\n",
      "Time:                        14:29:39   Log-Likelihood:                -31364.\n",
      "No. Observations:                3552   AIC:                         6.273e+04\n",
      "Df Residuals:                    3550   BIC:                         6.275e+04\n",
      "Df Model:                           1                                         \n",
      "Covariance Type:            nonrobust                                         \n",
      "==============================================================================\n",
      "                 coef    std err          t      P>|t|      [0.025      0.975]\n",
      "------------------------------------------------------------------------------\n",
      "const       1.109e+04     30.570    362.703      0.000     1.1e+04    1.11e+04\n",
      "veteran      169.1135     73.053      2.315      0.021      25.884     312.343\n",
      "==============================================================================\n",
      "Omnibus:                      234.115   Durbin-Watson:                   1.773\n",
      "Prob(Omnibus):                  0.000   Jarque-Bera (JB):              865.044\n",
      "Skew:                           0.238   Prob(JB):                    1.44e-188\n",
      "Kurtosis:                       5.370   Cond. No.                         2.72\n",
      "==============================================================================\n",
      "\n",
      "Notes:\n",
      "[1] Standard Errors assume that the covariance matrix of the errors is correctly specified.\n"
     ]
    }
   ],
   "source": [
    "results = sm.OLS(Y,X).fit()\n",
    "print(results.summary())"
   ]
  },
  {
   "cell_type": "markdown",
   "metadata": {},
   "source": [
    "Let $Y_{0, i}$ and $Y_{1, i}$ be the potential outcome variables of future earning had the subject not been a veteran or had the subject been a veteran respectively, these random variables are not independent on veteran status.  $Y_{1i}$, $Y_{0i} \\nci T_i$. This is so because people could volunteer to go to war. Interestingly, this regression has positive slove on veteran status. This bias could be due to: \"Committed people go to war / Committed people perform better at work\"\n",
    "\n",
    "The table below shows that an important set of people that were not eligible did become veterans. Therefore, breaking the independence conditions. These people could be described as committed."
   ]
  },
  {
   "cell_type": "code",
   "execution_count": 5,
   "metadata": {},
   "outputs": [
    {
     "data": {
      "text/html": [
       "<div>\n",
       "<style scoped>\n",
       "    .dataframe tbody tr th:only-of-type {\n",
       "        vertical-align: middle;\n",
       "    }\n",
       "\n",
       "    .dataframe tbody tr th {\n",
       "        vertical-align: top;\n",
       "    }\n",
       "\n",
       "    .dataframe thead th {\n",
       "        text-align: right;\n",
       "    }\n",
       "</style>\n",
       "<table border=\"1\" class=\"dataframe\">\n",
       "  <thead>\n",
       "    <tr style=\"text-align: right;\">\n",
       "      <th>veteran</th>\n",
       "      <th>0.0</th>\n",
       "      <th>1.0</th>\n",
       "      <th>Total</th>\n",
       "    </tr>\n",
       "    <tr>\n",
       "      <th>eligible</th>\n",
       "      <th></th>\n",
       "      <th></th>\n",
       "      <th></th>\n",
       "    </tr>\n",
       "  </thead>\n",
       "  <tbody>\n",
       "    <tr>\n",
       "      <th>0.0</th>\n",
       "      <td>0.577703</td>\n",
       "      <td>0.118243</td>\n",
       "      <td>0.695946</td>\n",
       "    </tr>\n",
       "    <tr>\n",
       "      <th>1.0</th>\n",
       "      <td>0.247185</td>\n",
       "      <td>0.056869</td>\n",
       "      <td>0.304054</td>\n",
       "    </tr>\n",
       "    <tr>\n",
       "      <th>Total</th>\n",
       "      <td>0.824887</td>\n",
       "      <td>0.175113</td>\n",
       "      <td>1.000000</td>\n",
       "    </tr>\n",
       "  </tbody>\n",
       "</table>\n",
       "</div>"
      ],
      "text/plain": [
       "veteran        0.0       1.0     Total\n",
       "eligible                              \n",
       "0.0       0.577703  0.118243  0.695946\n",
       "1.0       0.247185  0.056869  0.304054\n",
       "Total     0.824887  0.175113  1.000000"
      ]
     },
     "execution_count": 5,
     "metadata": {},
     "output_type": "execute_result"
    }
   ],
   "source": [
    "pd.crosstab(data.eligible, data.veteran, margins=True, margins_name=\"Total\", values=1, aggfunc='sum')/len(data)"
   ]
  },
  {
   "cell_type": "markdown",
   "metadata": {},
   "source": [
    "Two Stage Linear Regression"
   ]
  },
  {
   "cell_type": "code",
   "execution_count": 6,
   "metadata": {
    "scrolled": true
   },
   "outputs": [
    {
     "name": "stdout",
     "output_type": "stream",
     "text": [
      "                          IV-2SLS Estimation Summary                          \n",
      "==============================================================================\n",
      "Dep. Variable:               earnings   R-squared:                     -1.1072\n",
      "Estimator:                    IV-2SLS   Adj. R-squared:                -1.1078\n",
      "No. Observations:                3552   F-statistic:                    0.7456\n",
      "Date:                Wed, Feb 03 2021   P-value (F-stat)                0.3879\n",
      "Time:                        14:29:40   Distribution:                  chi2(1)\n",
      "Cov. Estimator:            unadjusted                                         \n",
      "                                                                              \n",
      "                             Parameter Estimates                              \n",
      "==============================================================================\n",
      "            Parameter  Std. Err.     T-stat    P-value    Lower CI    Upper CI\n",
      "------------------------------------------------------------------------------\n",
      "const       1.189e+04     896.76     13.260     0.0000   1.013e+04   1.365e+04\n",
      "veteran       -4417.4     5115.9    -0.8635     0.3879  -1.444e+04      5609.6\n",
      "==============================================================================\n",
      "\n",
      "Endogenous: veteran\n",
      "Instruments: eligible\n",
      "Unadjusted Covariance (Homoskedastic)\n",
      "Debiased: False\n"
     ]
    }
   ],
   "source": [
    "from linearmodels.iv import IV2SLS\n",
    "\n",
    "res_second = IV2SLS(Y, X['const'], X.veteran, data.eligible).fit(cov_type='unadjusted')\n",
    "print(res_second)"
   ]
  },
  {
   "cell_type": "markdown",
   "metadata": {},
   "source": [
    "We can see that the results differ significantly. Specially in sign. That means that when we use eligibility as an instrumental variable, we are really capturing the effect of a random treatment."
   ]
  },
  {
   "cell_type": "markdown",
   "metadata": {},
   "source": [
    "## Exercise 2"
   ]
  },
  {
   "cell_type": "markdown",
   "metadata": {},
   "source": [
    "The effect disappears because eligibility is a truly random variable. By instrumenting veteran status dummy via eligibility, we are ruling out selection bias.\n",
    "\n",
    "Let $Z_i$ be an instrumental variable. The condition identifying necessary conditions are:\n",
    "\n",
    "- $Z_i$ is randomly assigned. This is the case since eligibility was assigned in a lottery process\n",
    "- $Z_i$ satisfies the exclusion restriction. That is we are not using eligibility directly as a regressor to estimate $Y_i$\n",
    "- $Z_i$ affects the endogenous regressor i.e. veteran. Again, this is the case. Some people that would not have become veterans had they not been eligible"
   ]
  },
  {
   "cell_type": "markdown",
   "metadata": {},
   "source": [
    "## Exercise 3\n"
   ]
  },
  {
   "cell_type": "markdown",
   "metadata": {},
   "source": [
    "### Structural Form\n",
    "\n",
    " $$ Y_i = \\beta_0 + \\beta_DD_i + \\epsilon_i^D$$\n",
    " \n",
    "### Reduced Form\n",
    "\n",
    "$$ Y_i = \\rho_0 + \\rho_ZZ_i + \\epsilon_i^Z$$\n",
    "\n",
    "\n",
    "### First Stage Form\n",
    "\n",
    "$$ D_i = \\alpha_0 + \\alpha_ZZ_i + \\epsilon_i^Z$$\n",
    "\n",
    "\n",
    "### Analytical derivation of the estimator\n",
    "\n",
    "$$\n",
    "\\begin{align}\n",
    "Y_i & = \\beta_0 + \\beta_DD_i + \\epsilon_i^D \\\\\n",
    "    & = \\beta_0 + \\beta_D(\\alpha_0 + \\alpha_ZZ_i + \\epsilon_i^Z) + \\epsilon_i^D \\\\\n",
    "    & = (\\beta_0 + \\beta_D\\alpha_0) + \\beta_D\\alpha_ZZ_i + (\\beta_D\\epsilon_i^Z + \\epsilon_i^D) \\\\\n",
    "    & = \\rho_0 + \\rho_ZZ_i + \\epsilon_i^Z\n",
    "\\end{align}\n",
    "$$\n",
    "\n",
    "If we equate coefficients we get\n",
    "\n",
    "$$ \\rho_Z = \\beta_D\\alpha_Z $$\n",
    "\n",
    "Therefore, \n",
    "\n",
    "$$ \\beta_D = \\frac{\\rho_Z}{\\alpha_Z} $$\n",
    "\n"
   ]
  },
  {
   "cell_type": "markdown",
   "metadata": {},
   "source": [
    "## Exercise 4"
   ]
  },
  {
   "cell_type": "markdown",
   "metadata": {},
   "source": [
    "Recall that, \n",
    "\n",
    "$$ \\rho_Z = \\frac{Cov(Y_i, Z_i)}{Var(Z_i)} $$\n",
    "$$ \\alpha_Z = \\frac{Cov(D_i, Z_i)}{Var(Z_i)} $$\n",
    "\n",
    "therefore, \n",
    "\n",
    "$$ \\beta_D = \\frac{\\rho_Z}{\\alpha_Z} = \\frac{Cov(Y_i, Z_i)}{Cov(D_i, Z_i)}$$\n",
    "\n",
    "\n",
    "We can express the numerator as, \n",
    "\n",
    "$$\n",
    "\\begin{align}\n",
    "Cov(Y_i, Z_i) & = \\E[Y_iZ_i]-\\E[Y_i]\\E[Z_i] \\\\\n",
    "              & = \\E[Y_i|Z_i=1]P(Z_i =1) -\\{ \\E [Y_i|Z_i =1]P(Z_i=1) + \\E[Y_i|Z_i=0](1- P(Z_i=1))\\}P(Z_i=1) \\\\\n",
    "              &= \\{\\E[Y_i|Z_i = 1] - \\E[Y_i|Z_I = 0] \\}P(Z_i=1)(1-P(Z_i=1))\n",
    "\\end{align}\n",
    "$$\n",
    "\n",
    "... and the denominator as, \n",
    "\n",
    "\n",
    "$$\n",
    "Cov(D_i, Z_i)  = \\{ \\E[D_i|Z_i=1]-\\E[D_i|Z_i=0]\\}P(Z_i=1)(1-P(Z_i=1)) \n",
    "$$\n",
    "\n",
    "Thus\n",
    "\n",
    "$$\n",
    "    \\beta_D = \n",
    "    \\frac{\\{\\E[Y_i|Z_i = 1] - \\E[Y_i|Z_I = 0] \\}P(Z_i=1)(1-P(Z_i=1))}{\\{\\E[D_i|Z_i=1]-\\E[D_i|Z_i=0]\\}P(Z_i=1)(1-P(Z_i=1)) } = \n",
    "    \\frac{\\E[Y_i|Z_i = 1] - \\E[Y_i|Z_I = 0]}{\\E[D_i|Z_i=1]-\\E[D_i|Z_i=0]}\n",
    "$$\n",
    "\n",
    "\n",
    "\n"
   ]
  },
  {
   "cell_type": "markdown",
   "metadata": {},
   "source": [
    "## Exercise 5"
   ]
  },
  {
   "cell_type": "code",
   "execution_count": null,
   "metadata": {},
   "outputs": [],
   "source": []
  },
  {
   "cell_type": "code",
   "execution_count": null,
   "metadata": {},
   "outputs": [],
   "source": []
  },
  {
   "cell_type": "code",
   "execution_count": null,
   "metadata": {},
   "outputs": [],
   "source": []
  },
  {
   "cell_type": "code",
   "execution_count": 7,
   "metadata": {
    "scrolled": false
   },
   "outputs": [
    {
     "data": {
      "text/html": [
       "<div>\n",
       "<style scoped>\n",
       "    .dataframe tbody tr th:only-of-type {\n",
       "        vertical-align: middle;\n",
       "    }\n",
       "\n",
       "    .dataframe tbody tr th {\n",
       "        vertical-align: top;\n",
       "    }\n",
       "\n",
       "    .dataframe thead th {\n",
       "        text-align: right;\n",
       "    }\n",
       "</style>\n",
       "<table border=\"1\" class=\"dataframe\">\n",
       "  <thead>\n",
       "    <tr style=\"text-align: right;\">\n",
       "      <th></th>\n",
       "      <th></th>\n",
       "      <th>byr</th>\n",
       "      <th>year</th>\n",
       "      <th>earnings</th>\n",
       "    </tr>\n",
       "    <tr>\n",
       "      <th>eligible</th>\n",
       "      <th>veteran</th>\n",
       "      <th></th>\n",
       "      <th></th>\n",
       "      <th></th>\n",
       "    </tr>\n",
       "  </thead>\n",
       "  <tbody>\n",
       "    <tr>\n",
       "      <th rowspan=\"2\" valign=\"top\">0.0</th>\n",
       "      <th>0.0</th>\n",
       "      <td>2052</td>\n",
       "      <td>2052</td>\n",
       "      <td>2052</td>\n",
       "    </tr>\n",
       "    <tr>\n",
       "      <th>1.0</th>\n",
       "      <td>420</td>\n",
       "      <td>420</td>\n",
       "      <td>420</td>\n",
       "    </tr>\n",
       "    <tr>\n",
       "      <th rowspan=\"2\" valign=\"top\">1.0</th>\n",
       "      <th>0.0</th>\n",
       "      <td>878</td>\n",
       "      <td>878</td>\n",
       "      <td>878</td>\n",
       "    </tr>\n",
       "    <tr>\n",
       "      <th>1.0</th>\n",
       "      <td>202</td>\n",
       "      <td>202</td>\n",
       "      <td>202</td>\n",
       "    </tr>\n",
       "  </tbody>\n",
       "</table>\n",
       "</div>"
      ],
      "text/plain": [
       "                   byr  year  earnings\n",
       "eligible veteran                      \n",
       "0.0      0.0      2052  2052      2052\n",
       "         1.0       420   420       420\n",
       "1.0      0.0       878   878       878\n",
       "         1.0       202   202       202"
      ]
     },
     "execution_count": 7,
     "metadata": {},
     "output_type": "execute_result"
    }
   ],
   "source": [
    "data.groupby(['eligible', 'veteran']).count()"
   ]
  },
  {
   "cell_type": "code",
   "execution_count": 8,
   "metadata": {
    "scrolled": true
   },
   "outputs": [
    {
     "data": {
      "text/html": [
       "<div>\n",
       "<style scoped>\n",
       "    .dataframe tbody tr th:only-of-type {\n",
       "        vertical-align: middle;\n",
       "    }\n",
       "\n",
       "    .dataframe tbody tr th {\n",
       "        vertical-align: top;\n",
       "    }\n",
       "\n",
       "    .dataframe thead th {\n",
       "        text-align: right;\n",
       "    }\n",
       "</style>\n",
       "<table border=\"1\" class=\"dataframe\">\n",
       "  <thead>\n",
       "    <tr style=\"text-align: right;\">\n",
       "      <th>veteran</th>\n",
       "      <th>0.0</th>\n",
       "      <th>1.0</th>\n",
       "      <th>Total</th>\n",
       "    </tr>\n",
       "    <tr>\n",
       "      <th>eligible</th>\n",
       "      <th></th>\n",
       "      <th></th>\n",
       "      <th></th>\n",
       "    </tr>\n",
       "  </thead>\n",
       "  <tbody>\n",
       "    <tr>\n",
       "      <th>0.0</th>\n",
       "      <td>0.577703</td>\n",
       "      <td>0.118243</td>\n",
       "      <td>0.695946</td>\n",
       "    </tr>\n",
       "    <tr>\n",
       "      <th>1.0</th>\n",
       "      <td>0.247185</td>\n",
       "      <td>0.056869</td>\n",
       "      <td>0.304054</td>\n",
       "    </tr>\n",
       "    <tr>\n",
       "      <th>Total</th>\n",
       "      <td>0.824887</td>\n",
       "      <td>0.175113</td>\n",
       "      <td>1.000000</td>\n",
       "    </tr>\n",
       "  </tbody>\n",
       "</table>\n",
       "</div>"
      ],
      "text/plain": [
       "veteran        0.0       1.0     Total\n",
       "eligible                              \n",
       "0.0       0.577703  0.118243  0.695946\n",
       "1.0       0.247185  0.056869  0.304054\n",
       "Total     0.824887  0.175113  1.000000"
      ]
     },
     "execution_count": 8,
     "metadata": {},
     "output_type": "execute_result"
    }
   ],
   "source": [
    "pd.crosstab(data.eligible, data.veteran, margins=True, margins_name=\"Total\", values=1, aggfunc='sum')/len(data)"
   ]
  },
  {
   "cell_type": "code",
   "execution_count": 9,
   "metadata": {
    "scrolled": true
   },
   "outputs": [
    {
     "data": {
      "text/plain": [
       "0.12186919189799998"
      ]
     },
     "execution_count": 9,
     "metadata": {},
     "output_type": "execute_result"
    }
   ],
   "source": [
    "0.175113*0.695946"
   ]
  },
  {
   "cell_type": "code",
   "execution_count": 10,
   "metadata": {},
   "outputs": [
    {
     "data": {
      "text/html": [
       "<div>\n",
       "<style scoped>\n",
       "    .dataframe tbody tr th:only-of-type {\n",
       "        vertical-align: middle;\n",
       "    }\n",
       "\n",
       "    .dataframe tbody tr th {\n",
       "        vertical-align: top;\n",
       "    }\n",
       "\n",
       "    .dataframe thead th {\n",
       "        text-align: right;\n",
       "    }\n",
       "</style>\n",
       "<table border=\"1\" class=\"dataframe\">\n",
       "  <thead>\n",
       "    <tr style=\"text-align: right;\">\n",
       "      <th></th>\n",
       "      <th>eligible</th>\n",
       "      <th>veteran</th>\n",
       "    </tr>\n",
       "  </thead>\n",
       "  <tbody>\n",
       "    <tr>\n",
       "      <th>eligible</th>\n",
       "      <td>1.000000</td>\n",
       "      <td>0.020738</td>\n",
       "    </tr>\n",
       "    <tr>\n",
       "      <th>veteran</th>\n",
       "      <td>0.020738</td>\n",
       "      <td>1.000000</td>\n",
       "    </tr>\n",
       "  </tbody>\n",
       "</table>\n",
       "</div>"
      ],
      "text/plain": [
       "          eligible   veteran\n",
       "eligible  1.000000  0.020738\n",
       "veteran   0.020738  1.000000"
      ]
     },
     "execution_count": 10,
     "metadata": {},
     "output_type": "execute_result"
    }
   ],
   "source": [
    "data[['eligible', 'veteran']].corr()"
   ]
  }
 ],
 "metadata": {
  "kernelspec": {
   "display_name": "Python 3",
   "language": "python",
   "name": "python3"
  },
  "language_info": {
   "codemirror_mode": {
    "name": "ipython",
    "version": 3
   },
   "file_extension": ".py",
   "mimetype": "text/x-python",
   "name": "python",
   "nbconvert_exporter": "python",
   "pygments_lexer": "ipython3",
   "version": "3.7.6"
  },
  "toc": {
   "base_numbering": 1,
   "nav_menu": {},
   "number_sections": true,
   "sideBar": true,
   "skip_h1_title": false,
   "title_cell": "Table of Contents",
   "title_sidebar": "Contents",
   "toc_cell": false,
   "toc_position": {},
   "toc_section_display": true,
   "toc_window_display": false
  }
 },
 "nbformat": 4,
 "nbformat_minor": 4
}
