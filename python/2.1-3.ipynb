{
 "cells": [
  {
   "cell_type": "markdown",
   "metadata": {},
   "source": [
    "# Part 2.1"
   ]
  },
  {
   "cell_type": "markdown",
   "metadata": {},
   "source": [
    "$\\newcommand\\ci{\\perp\\mkern-10mu\\perp}$\n",
    "Results in Table 2 give an estimate of the average NSW treatment effect for different comparison groups/subsets, whereas:\n",
    "\n",
    "Row 1 reflects the ATT under independence (We can assume independence $Y_{1i}$, $Y_{0i} \\ci T_i$ because people have been randomly assigned to control & treatment, i.e, the comparison group here is the control group of the same experiment.\n",
    "\n",
    "Row 2-7, are different subsets of non-experimental comparison groups.\n",
    "The fact that the treatment effect for the different non-experimental comparison groups is significantly different from the experimental one suggests that they are drawn from different populations, hence $Y_{1i}$, $Y_{0i} \\ci T_i$ does not hold (for rows 2-7)\n",
    "According to the authors of the paper the comparison groups are drawn from a population that is more representative of the U.S general as a population than that of the NSW experiment (welfare recipients eligible for the program)\n",
    "\n",
    "PSID-1 & CPS-1 differ from the experimental population in terms of age, marital status, ethnicity & pre-intervention earning, which is displayed in Table 1.\n",
    "Lalonde tried to control for these differences by subsetting the comparison groups into a sample that ought to represent the treatment population (CPS-2/3 PSID-2/3). But the differences remain significantly different from 0 at the 1% level"
   ]
  },
  {
   "cell_type": "markdown",
   "metadata": {},
   "source": [
    "# Part 2.2"
   ]
  },
  {
   "cell_type": "markdown",
   "metadata": {},
   "source": [
    "If $X_i$ discrete and takes on $j$ possible values $\\{X_j\\}_{j=1}^{J}$\n",
    "\n",
    "$$ \\hat{\\alpha_{TT}} = \\frac{1}{N_1} \\sum_{i:D_i=1} (Y_i - \\bar{Y}_0^{j(i)})\t\\label{eq:TT} \\tag{1} $$ \n",
    "\n",
    "- $X_i$ = vector of covariates for ith individual.\n",
    "- $N$ Observations\n",
    "- $N_i$ number of treated individuals.\n",
    "\n",
    "under conditional independence: $Y_{1i}, Y_{0i} \\perp D_i | X_i$ and $Y_{1i}, Y_{0i} \\perp D_i | \\pi (X_i) $\n",
    "\n",
    "we need to estimate $ \\hat{Y_0^{j(i)}}$ in $\\eqref{eq:TT}$\n",
    "\n",
    "$ \\hat{Y_0^{j(i)}}$ can be expressed as a weighted average of the outcomes of controlled individuals: \n",
    "\n",
    "$$  \\hat{Y}_{0i} = \\sum_{k:D_k=0} w(i, k)Y_k \\label{eq:wi} \\tag{2} $$ \n",
    "\n",
    "where we can define the $w(i, k)$ in several different ways, e.g. radius matching: \n",
    "\n",
    "$$ w(i, k) = \\frac{\\mathbb{1}\\{\\Vert X_k - X_i \\Vert < \\epsilon \\}}\n",
    "{\\sum_{k:D_k=0}\\mathbb{1}\\{\\Vert X_k - X_i \\Vert < \\epsilon \\}} \\label{eq:wei} \\tag{3}$$\n",
    "\n",
    "we average over controlled individuals that are within a specified distance $\\epsilon$ in terms of covariates $X_i$\n",
    "\n",
    "Combining $\\eqref{eq:TT}$, $\\eqref{eq:wi}$, $\\eqref{eq:wei}$ we get:\n",
    "\n",
    "$$ \\hat{\\alpha_{TT}} = \\frac{1}{N_1} \\sum_{i:D_i=1} (Y_i - \\sum_{k:D_k=0} \\frac{\\mathbb{1}\\{\\Vert X_k - X_i \\Vert < \\epsilon \\}}\n",
    "{\\sum_{l:D_l=0}\\mathbb{1}\\{\\Vert X_l - X_i \\Vert < \\epsilon \\}}Y_k)\t\\label{eq:comb} \\tag{4} $$\n",
    "\n",
    "Note: If covariates $X_i$ are continuous and/or high-dimensional one can do the matching on $\\hat{\\pi}(X_i)$ (propensity score) instead. In this case, on would have to estimate  $\\hat{\\pi}(X_i)$ non-parametrically or parametrically with e.g. Logit or Probit model."
   ]
  },
  {
   "cell_type": "markdown",
   "metadata": {},
   "source": [
    "# Part 2.3"
   ]
  },
  {
   "cell_type": "markdown",
   "metadata": {},
   "source": [
    "The conditional independence assumption is valid whenever one can observe and control for all covariates that are responsible for significant pre-treatment differences between the treatment and the comparison group. (That are relevant for the potential outcomes)\n",
    "\n",
    "Dehejia & Wahba seem to be able to replicate the experimental benchmark by using propensity score matching and controlling for all the covariates by selecting only a subset of the comparison group that is compatible to the treatment group.\n",
    "Therefore, yes, the conditional independence assumption seems to hold, but one needs to be very careful when conditioning on the covariates.\n",
    "One caveat to D&W’s reproduced results is that they end up with very large standard error due to a very small sample, which introduces some doubts into the conditional independence assumption.\n"
   ]
  }
 ],
 "metadata": {
  "kernelspec": {
   "display_name": "Python 3",
   "language": "python",
   "name": "python3"
  },
  "language_info": {
   "codemirror_mode": {
    "name": "ipython",
    "version": 3
   },
   "file_extension": ".py",
   "mimetype": "text/x-python",
   "name": "python",
   "nbconvert_exporter": "python",
   "pygments_lexer": "ipython3",
   "version": "3.8.0"
  },
  "toc": {
   "base_numbering": 1,
   "nav_menu": {},
   "number_sections": true,
   "sideBar": true,
   "skip_h1_title": false,
   "title_cell": "Table of Contents",
   "title_sidebar": "Contents",
   "toc_cell": false,
   "toc_position": {},
   "toc_section_display": true,
   "toc_window_display": false
  }
 },
 "nbformat": 4,
 "nbformat_minor": 4
}
