{
 "cells": [
  {
   "cell_type": "markdown",
   "metadata": {},
   "source": [
    "# Problem Set 3\n",
    "\n",
    "$\\newcommand\\ci{\\perp\\mkern-10mu\\perp}$\n",
    "$\\newcommand{\\nci}{\\not\\!\\perp\\!\\!\\!\\perp}$\n",
    "$\\newcommand{\\E}{\\mathbb{E}}$"
   ]
  },
  {
   "cell_type": "code",
   "execution_count": 24,
   "metadata": {},
   "outputs": [],
   "source": [
    "# We might need to install some packages\n",
    "# Uncomment to execute \n",
    "#!pip install linearmodels"
   ]
  },
  {
   "cell_type": "code",
   "execution_count": 110,
   "metadata": {},
   "outputs": [],
   "source": [
    "import pandas as pd\n",
    "import numpy as np\n",
    "import statsmodels.api as sm\n",
    "from sklearn.preprocessing import PolynomialFeatures\n",
    "from IPython.display import Markdown, display, HTML\n",
    "import matplotlib.pyplot as plt\n",
    "\n",
    "def printmd(string):\n",
    "    display(Markdown(string))"
   ]
  },
  {
   "cell_type": "markdown",
   "metadata": {},
   "source": [
    "## Exercise 1"
   ]
  },
  {
   "cell_type": "markdown",
   "metadata": {},
   "source": [
    "From 1573 to 1812, the Spanish goverment in Peru and the Boliva republic created a forced labor system by which, over 200 indigenous communities were required to send one-seventh of their adult male population to work in the Potosí Silver and Huancavelica mercury mines. This contribution scheme had a border discontinuity. On one side, all\n",
    "communities sent the same percentage of their population, while on the other\n",
    "side, all communities were exempt.\n",
    "\n",
    "This discontinuity is deterministic i.e. all communities on one side of the border are forced to contribute while on the other side of the border none is. We also call deterministic discontinuities 'Sharp'"
   ]
  },
  {
   "cell_type": "markdown",
   "metadata": {},
   "source": [
    "## Exercise 2"
   ]
  },
  {
   "cell_type": "markdown",
   "metadata": {},
   "source": [
    "### 2.a\n",
    "\n",
    "$$\n",
    "\\begin{align}\n",
    "\\lim_{z \\rightarrow z_0^+} P(Y_{ij} \\leq y | Z_i = z)  & =  \\lim_{z\\rightarrow z_0^-} P(Y_{ij} \\leq y | Z_i = z) \\\\\n",
    "\\lim_{z\\rightarrow z_0^+} F_{Y_{ij}}(y| Z_i = z)   & =  \\lim_{z\\rightarrow z_0^-} F_{Y_{ij}}(y| Z_i = z) \\\\\n",
    "\\lim_{z\\rightarrow z_0^+} dF_{Y_{ij}}(y| Z_i = z)   & =  \\lim_{z\\rightarrow z_0^-} dF_{Y_{ij}}(y| Z_i = z) \\\\\n",
    "\\lim_{z\\rightarrow z_0^+} \\int Y_{ij} dF_{Y_{ij}}(y| Z_i = z)   & =  \\lim_{z\\rightarrow z_0^-} \\int Y_{ij} dF_{Y_{ij}}(y| Z_i = z) \\\\\n",
    "\\lim_{z\\rightarrow z_0^+} \\mathbb{E}[Y_{ij}| Z_i = z]    & =  \\lim_{z\\rightarrow z_0^-} \\mathbb{E}[Y_{ij}| Z_i = z]\n",
    "\\end{align}\n",
    "$$"
   ]
  },
  {
   "cell_type": "markdown",
   "metadata": {},
   "source": [
    "### 2.b \n",
    "\n",
    "Let's assum that $ \\alpha = Y_{1i} - Y_{0i}$ is constant, so that:\n",
    "\n",
    "$$\n",
    "Y_i = \\alpha D_i + Y_{0i}\n",
    "$$\n",
    "\n",
    "We now take conditional expectations on $Z_i = z$ and left-side and right-side limits:\n",
    "\n",
    "$$ \n",
    "\\begin{align}\n",
    "\\lim_{z \\rightarrow z_0^+} \\E[Y_i | Z_i = z] & = \\alpha \\lim_{z \\rightarrow z_0^+} \\E[D_i|Z_i = z] + \\lim_{z \\rightarrow z_0^+} \\E [Y_{0i} \\ Z_i =z] \\\\\n",
    "\\lim_{z \\rightarrow z_0^-} \\E[Y_i | Z_i = z] & = \\alpha \\lim_{z \\rightarrow z_0^-} \\E[D_i|Z_i = z] + \\lim_{z \\rightarrow z_0^-} \\E [Y_{0i} \\ Z_i =z]\n",
    "\\end{align}\n",
    "$$\n",
    "\n",
    "If we substract both equalities we get:\n",
    "\n",
    "$$\n",
    "\\lim_{z \\rightarrow z_0^+} \\E[Y_i | Z_i = z] -\\lim_{z \\rightarrow z_0^-} \\E[Y_i | Z_i = z] = \\alpha \\lim_{z \\rightarrow z_0^+} \\E[D_i|Z_i = z] -\\alpha \\lim_{z \\rightarrow z_0^-} \\E[D_i|Z_i = z] + \\lim_{z \\rightarrow z_0^+} \\E [Y_{0i} \\ Z_i =z] -\\lim_{z \\rightarrow z_0^-} \\E [Y_{0i} \\ Z_i =z] \n",
    "$$\n",
    "\n",
    "From 2.a we know that \n",
    "$$\\lim_{z\\rightarrow z_0^+} \\mathbb{E}[Y_{ij}| Z_i = z] =  \\lim_{z\\rightarrow z_0^-} \\mathbb{E}[Y_{ij}| Z_i = z]$$\n",
    "\n",
    "So, \n",
    "\n",
    "$$\n",
    "\\lim_{z \\rightarrow z_0^+} \\E[Y_i | Z_i = z] -\\lim_{z \\rightarrow z_0^-} \\E[Y_i | Z_i = z] = \\alpha \\lim_{z \\rightarrow z_0^+} \\E[D_i|Z_i = z] -\\alpha \\lim_{z \\rightarrow z_0^-} \\E[D_i|Z_i = z] + \\lim_{z \\rightarrow z_0^+} \\E [Y_{0i} \\ Z_i =z] -\\lim_{z \\rightarrow z_0^-} \\E [Y_{0i} \\ Z_i =z] \n",
    "$$\n",
    "\n",
    "\n",
    "Therefore, \n",
    "\n",
    "$$\n",
    "\\alpha = \\frac{\\lim_{z \\rightarrow z_0^+} \\E[Y_i | Z_i = z] -\\lim_{z \\rightarrow z_0^-} \\E[Y_i | Z_i = z]}{\\lim_{z \\rightarrow z_0^+} \\E[D_i|Z_i = z] - \\lim_{z \\rightarrow z_0^-} \\E[D_i|Z_i = z]}\n",
    "$$"
   ]
  },
  {
   "cell_type": "markdown",
   "metadata": {},
   "source": [
    "## Exercise 3\n",
    "\n",
    "The author claims that households consumtion potetial outcomes is a function of agricultural and soccial factors. \n",
    "The former group is reported in terms of elevation and slope. The later, is reported in terms of % of indigenous, log 1572 tribute rates et al. Table 1 shows thats for this variables it is not possible to reject the null hypothesis of equiality. Therefore, \n",
    "\n",
    "$$\\lim_{z\\rightarrow z_0^+} \\mathbb{E}[Y_{ij}| Z_i = z] =  \\lim_{z\\rightarrow z_0^-} \\mathbb{E}[Y_{ij}| Z_i = z]$$\n",
    "\n",
    "As we saw on the derivation of 2.b this condition is crutial to zero one part of the equation."
   ]
  },
  {
   "cell_type": "markdown",
   "metadata": {},
   "source": [
    "## Exercise 4\n",
    "\n",
    "### 4.a\n",
    "\n",
    "The author presents the following equation:\n",
    "\n",
    "$$\n",
    "c_{idb} = \\alpha + \\gamma mita_d + X_{id}' \\beta + f(geographic_d) + \\phi_b + \\epsilon_{idb}\n",
    "$$\n",
    "\n",
    "where: \n",
    "- $c_{idb}$ is the outcome variable of interest for observation i in district d along segment b of the mita boundary\n",
    "- $mita_d$ is an indicator equal to 1 if district d contributed to the mita and equal to 0 otherwise\n",
    "- $X_{id}$ is a vector of covariates that includes the mean area weighted elevation and slope for district d and (in regressions with equivalent household consumption on the left-hand side) demographic variables giving the number of infants, children, and adults in the household; \n",
    "- $\\phi_b$ is a set of boundary segment fixed effects that denote which of four equal length segments of the boundary is the closest to the observation’s district capital.\n",
    "\n",
    "So far, wich exception of $\\phi_b$ the variables do not measure realtive position to trading rutes of tradind venues. The author notices some spatial information has to be included. As an example, during much of the colonial period, Potosí was the largest city in the Western Hemisphere and one of the largest in the world, with a population exceeding 200,000. Therefore, the author estimates a function of the Euclidean distance to Potosí to capture the effect of unobserved variables. Another potencial geographic information to be captured would be the distance to the boundary under study\n",
    "\n",
    "### 4.b\n",
    "\n",
    "Panel C aims at capturing the efecte of the distance to the border.\n",
    "\n",
    "\n",
    "### 4.c"
   ]
  },
  {
   "cell_type": "code",
   "execution_count": 323,
   "metadata": {},
   "outputs": [
    {
     "data": {
      "text/plain": [
       "<matplotlib.collections.PathCollection at 0x128cfe88ac0>"
      ]
     },
     "execution_count": 323,
     "metadata": {},
     "output_type": "execute_result"
    },
    {
     "data": {
      "image/png": "[encoded data removed]",
      "text/plain": [
       "<Figure size 864x576 with 1 Axes>"
      ]
     },
     "metadata": {
      "needs_background": "light"
     },
     "output_type": "display_data"
    }
   ],
   "source": [
    "aux = childstunt.groupby('dist_mita_brdr')[['stunt']].mean()\n",
    "\n",
    "aux['dist_mita_brdr'] = aux.index\n",
    "#plot(kind='scatter', x='dist_mita_brdr', y='stunt')\n",
    "plt.scatter(aux['dist_mita_brdr'], aux['stunt'], s=5)"
   ]
  },
  {
   "cell_type": "markdown",
   "metadata": {},
   "source": [
    "More than a border discontinuity seems like a discontinutity in slope"
   ]
  },
  {
   "cell_type": "markdown",
   "metadata": {},
   "source": [
    "## Global  regression"
   ]
  },
  {
   "cell_type": "code",
   "execution_count": 223,
   "metadata": {},
   "outputs": [
    {
     "data": {
      "text/html": [
       "<div>\n",
       "<style scoped>\n",
       "    .dataframe tbody tr th:only-of-type {\n",
       "        vertical-align: middle;\n",
       "    }\n",
       "\n",
       "    .dataframe tbody tr th {\n",
       "        vertical-align: top;\n",
       "    }\n",
       "\n",
       "    .dataframe thead th {\n",
       "        text-align: right;\n",
       "    }\n",
       "</style>\n",
       "<table border=\"1\" class=\"dataframe\">\n",
       "  <thead>\n",
       "    <tr style=\"text-align: right;\">\n",
       "      <th></th>\n",
       "      <th>distr</th>\n",
       "      <th>stunt</th>\n",
       "      <th>stunt_sev</th>\n",
       "      <th>cusco</th>\n",
       "      <th>border</th>\n",
       "      <th>dist_mita_brdr</th>\n",
       "      <th>bfe4_1</th>\n",
       "      <th>bfe4_2</th>\n",
       "      <th>bfe4_3</th>\n",
       "      <th>elv_sh</th>\n",
       "      <th>slope</th>\n",
       "      <th>female</th>\n",
       "    </tr>\n",
       "    <tr>\n",
       "      <th>distr</th>\n",
       "      <th></th>\n",
       "      <th></th>\n",
       "      <th></th>\n",
       "      <th></th>\n",
       "      <th></th>\n",
       "      <th></th>\n",
       "      <th></th>\n",
       "      <th></th>\n",
       "      <th></th>\n",
       "      <th></th>\n",
       "      <th></th>\n",
       "      <th></th>\n",
       "    </tr>\n",
       "  </thead>\n",
       "  <tbody>\n",
       "    <tr>\n",
       "      <th>30101</th>\n",
       "      <td>30101</td>\n",
       "      <td>0.179074</td>\n",
       "      <td>0.022539</td>\n",
       "      <td>0</td>\n",
       "      <td>1</td>\n",
       "      <td>6.092747</td>\n",
       "      <td>0.0</td>\n",
       "      <td>0.0</td>\n",
       "      <td>1.0</td>\n",
       "      <td>3.31417</td>\n",
       "      <td>13.93050</td>\n",
       "      <td>-0.476013</td>\n",
       "    </tr>\n",
       "    <tr>\n",
       "      <th>30102</th>\n",
       "      <td>30102</td>\n",
       "      <td>0.281046</td>\n",
       "      <td>0.045752</td>\n",
       "      <td>0</td>\n",
       "      <td>0</td>\n",
       "      <td>-29.734169</td>\n",
       "      <td>0.0</td>\n",
       "      <td>0.0</td>\n",
       "      <td>1.0</td>\n",
       "      <td>3.99096</td>\n",
       "      <td>10.08990</td>\n",
       "      <td>-0.490196</td>\n",
       "    </tr>\n",
       "    <tr>\n",
       "      <th>30103</th>\n",
       "      <td>30103</td>\n",
       "      <td>0.356223</td>\n",
       "      <td>0.068670</td>\n",
       "      <td>0</td>\n",
       "      <td>0</td>\n",
       "      <td>-17.984289</td>\n",
       "      <td>0.0</td>\n",
       "      <td>0.0</td>\n",
       "      <td>1.0</td>\n",
       "      <td>3.90165</td>\n",
       "      <td>9.98946</td>\n",
       "      <td>-0.459227</td>\n",
       "    </tr>\n",
       "    <tr>\n",
       "      <th>30104</th>\n",
       "      <td>30104</td>\n",
       "      <td>0.375723</td>\n",
       "      <td>0.072832</td>\n",
       "      <td>0</td>\n",
       "      <td>1</td>\n",
       "      <td>17.039131</td>\n",
       "      <td>0.0</td>\n",
       "      <td>0.0</td>\n",
       "      <td>1.0</td>\n",
       "      <td>3.58834</td>\n",
       "      <td>11.51200</td>\n",
       "      <td>-0.485549</td>\n",
       "    </tr>\n",
       "    <tr>\n",
       "      <th>30105</th>\n",
       "      <td>30105</td>\n",
       "      <td>0.462151</td>\n",
       "      <td>0.107570</td>\n",
       "      <td>0</td>\n",
       "      <td>1</td>\n",
       "      <td>11.453810</td>\n",
       "      <td>0.0</td>\n",
       "      <td>0.0</td>\n",
       "      <td>1.0</td>\n",
       "      <td>2.94595</td>\n",
       "      <td>17.57830</td>\n",
       "      <td>-0.513944</td>\n",
       "    </tr>\n",
       "  </tbody>\n",
       "</table>\n",
       "</div>"
      ],
      "text/plain": [
       "       distr     stunt  stunt_sev  cusco  border  dist_mita_brdr  bfe4_1  \\\n",
       "distr                                                                      \n",
       "30101  30101  0.179074   0.022539      0       1        6.092747     0.0   \n",
       "30102  30102  0.281046   0.045752      0       0      -29.734169     0.0   \n",
       "30103  30103  0.356223   0.068670      0       0      -17.984289     0.0   \n",
       "30104  30104  0.375723   0.072832      0       1       17.039131     0.0   \n",
       "30105  30105  0.462151   0.107570      0       1       11.453810     0.0   \n",
       "\n",
       "       bfe4_2  bfe4_3   elv_sh     slope    female  \n",
       "distr                                               \n",
       "30101     0.0     1.0  3.31417  13.93050 -0.476013  \n",
       "30102     0.0     1.0  3.99096  10.08990 -0.490196  \n",
       "30103     0.0     1.0  3.90165   9.98946 -0.459227  \n",
       "30104     0.0     1.0  3.58834  11.51200 -0.485549  \n",
       "30105     0.0     1.0  2.94595  17.57830 -0.513944  "
      ]
     },
     "execution_count": 223,
     "metadata": {},
     "output_type": "execute_result"
    }
   ],
   "source": [
    "childstunt.head()"
   ]
  },
  {
   "cell_type": "code",
   "execution_count": 298,
   "metadata": {},
   "outputs": [
    {
     "data": {
      "text/markdown": [
       "**Stunt Results <100**"
      ],
      "text/plain": [
       "<IPython.core.display.Markdown object>"
      ]
     },
     "metadata": {},
     "output_type": "display_data"
    },
    {
     "name": "stdout",
     "output_type": "stream",
     "text": [
      "                            OLS Regression Results                            \n",
      "==============================================================================\n",
      "Dep. Variable:                  stunt   R-squared:                       0.145\n",
      "Model:                            OLS   Adj. R-squared:                  0.103\n",
      "Method:                 Least Squares   F-statistic:                     3.475\n",
      "Date:                Tue, 16 Feb 2021   Prob (F-statistic):           0.000547\n",
      "Time:                        18:49:35   Log-Likelihood:                 151.11\n",
      "No. Observations:                 195   AIC:                            -282.2\n",
      "Df Residuals:                     185   BIC:                            -249.5\n",
      "Df Model:                           9                                         \n",
      "Covariance Type:            nonrobust                                         \n",
      "====================================================================================\n",
      "                       coef    std err          t      P>|t|      [0.025      0.975]\n",
      "------------------------------------------------------------------------------------\n",
      "border_effect       -0.0006      0.042     -0.013      0.990      -0.083       0.082\n",
      "dist_mita_brdr_0    -0.0158      0.136     -0.116      0.908      -0.284       0.253\n",
      "dist_mita_brdr_1    -0.0003      0.001     -0.225      0.822      -0.003       0.002\n",
      "dist_mita_brdr_2 -1.875e-05   1.47e-05     -1.277      0.203   -4.77e-05    1.02e-05\n",
      "dist_mita_brdr_3 -4.512e-07   6.06e-07     -0.745      0.457   -1.65e-06    7.44e-07\n",
      "bfe4_1              -0.0329      0.023     -1.427      0.155      -0.078       0.013\n",
      "bfe4_2              -0.1111      0.031     -3.601      0.000      -0.172      -0.050\n",
      "bfe4_3               0.0195      0.024      0.824      0.411      -0.027       0.066\n",
      "elv_sh               0.1090      0.030      3.672      0.000       0.050       0.168\n",
      "slope                0.0020      0.004      0.569      0.570      -0.005       0.009\n",
      "==============================================================================\n",
      "Omnibus:                        1.082   Durbin-Watson:                   1.616\n",
      "Prob(Omnibus):                  0.582   Jarque-Bera (JB):                0.745\n",
      "Skew:                          -0.012   Prob(JB):                        0.689\n",
      "Kurtosis:                       3.302   Cond. No.                     7.58e+05\n",
      "==============================================================================\n",
      "\n",
      "Notes:\n",
      "[1] Standard Errors assume that the covariance matrix of the errors is correctly specified.\n",
      "[2] The condition number is large, 7.58e+05. This might indicate that there are\n",
      "strong multicollinearity or other numerical problems.\n",
      "                            OLS Regression Results                            \n",
      "==============================================================================\n",
      "Dep. Variable:                  stunt   R-squared:                       0.036\n",
      "Model:                            OLS   Adj. R-squared:                  0.016\n",
      "Method:                 Least Squares   F-statistic:                     1.797\n",
      "Date:                Tue, 16 Feb 2021   Prob (F-statistic):              0.131\n",
      "Time:                        18:49:35   Log-Likelihood:                 139.50\n",
      "No. Observations:                 195   AIC:                            -269.0\n",
      "Df Residuals:                     190   BIC:                            -252.6\n",
      "Df Model:                           4                                         \n",
      "Covariance Type:            nonrobust                                         \n",
      "====================================================================================\n",
      "                       coef    std err          t      P>|t|      [0.025      0.975]\n",
      "------------------------------------------------------------------------------------\n",
      "border_effect       -0.0106      0.044     -0.242      0.809      -0.097       0.076\n",
      "dist_mita_brdr_0     0.4088      0.025     16.238      0.000       0.359       0.458\n",
      "dist_mita_brdr_1    -0.0011      0.001     -0.762      0.447      -0.004       0.002\n",
      "dist_mita_brdr_2 -8.964e-06   1.42e-05     -0.633      0.527   -3.69e-05     1.9e-05\n",
      "dist_mita_brdr_3 -2.412e-08   6.25e-07     -0.039      0.969   -1.26e-06    1.21e-06\n",
      "==============================================================================\n",
      "Omnibus:                        0.279   Durbin-Watson:                   1.678\n",
      "Prob(Omnibus):                  0.870   Jarque-Bera (JB):                0.407\n",
      "Skew:                          -0.074   Prob(JB):                        0.816\n",
      "Kurtosis:                       2.832   Cond. No.                     2.55e+05\n",
      "==============================================================================\n",
      "\n",
      "Notes:\n",
      "[1] Standard Errors assume that the covariance matrix of the errors is correctly specified.\n",
      "[2] The condition number is large, 2.55e+05. This might indicate that there are\n",
      "strong multicollinearity or other numerical problems.\n"
     ]
    }
   ],
   "source": [
    "# Loading\n",
    "border_size = 50\n",
    "childstunt = pd.read_stata('delldata_childstunt.dta')\n",
    "\n",
    "# Clustering\n",
    "colum_names = childstunt.columns\n",
    "childstunt = childstunt.groupby('distr')[colum_names].mean()\n",
    "\n",
    "# Setting Polynomial elements\n",
    "childstunt['border_effect'] = childstunt['dist_mita_brdr'].apply(lambda x: 1 if x <0 else 0)\n",
    "childstunt['dist_mita_brdr_0'] = childstunt['dist_mita_brdr'].apply(lambda x: 1)\n",
    "childstunt['dist_mita_brdr_1'] = childstunt['dist_mita_brdr'].apply(lambda x: (x))\n",
    "childstunt['dist_mita_brdr_2'] = childstunt['dist_mita_brdr'].apply(lambda x: (x**2))\n",
    "childstunt['dist_mita_brdr_3'] = childstunt['dist_mita_brdr'].apply(lambda x: (x**3))\n",
    "\n",
    "# < 100\n",
    "printmd(\"**Stunt Results <100**\")\n",
    "aux = childstunt[abs(childstunt['dist_mita_brdr']) < border_size]\n",
    "Y = aux['stunt']\n",
    "X = aux[['border_effect', 'dist_mita_brdr_0', 'dist_mita_brdr_1', 'dist_mita_brdr_2', 'dist_mita_brdr_3', \n",
    "         'bfe4_1', 'bfe4_2', 'bfe4_3', 'elv_sh', 'slope']]\n",
    "\n",
    "results_100 = sm.OLS(Y,X).fit()\n",
    "print(results_100.summary())\n",
    "\n",
    "X = aux[['border_effect', 'dist_mita_brdr_0', 'dist_mita_brdr_1', 'dist_mita_brdr_2', 'dist_mita_brdr_3']]\n",
    "results_100_d = sm.OLS(Y,X).fit()\n",
    "print(results_100_d.summary())\n"
   ]
  },
  {
   "cell_type": "markdown",
   "metadata": {},
   "source": [
    "## Drawing"
   ]
  },
  {
   "cell_type": "code",
   "execution_count": 299,
   "metadata": {},
   "outputs": [
    {
     "data": {
      "text/plain": [
       "(0.0, 1.0)"
      ]
     },
     "execution_count": 299,
     "metadata": {},
     "output_type": "execute_result"
    },
    {
     "data": {
      "image/png": "[encoded data removed]",
      "text/plain": [
       "<Figure size 864x576 with 1 Axes>"
      ]
     },
     "metadata": {
      "needs_background": "light"
     },
     "output_type": "display_data"
    }
   ],
   "source": [
    "# Global Regression\n",
    "b   = results_100.params[0]\n",
    "b_0 = results_100.params[1]\n",
    "b_1 = results_100.params[2]\n",
    "b_2 = results_100.params[3]\n",
    "b_3 = results_100.params[4]\n",
    "bfe4_1 = results_100.params[5]\n",
    "bfe4_2 = results_100.params[6]\n",
    "bfe4_3 = results_100.params[7]\n",
    "elv_sh = results_100.params[8]\n",
    "slope = results_100.params[9]\n",
    "\n",
    "childstunt['g_100'] = childstunt.apply(lambda x: b*x['border_effect'] + \n",
    "                                       b_0*x['dist_mita_brdr_0']+\n",
    "                                       b_1*x['dist_mita_brdr_1']+\n",
    "                                       b_2*x['dist_mita_brdr_2']+\n",
    "                                       b_3*x['dist_mita_brdr_3']+ \n",
    "                                       bfe4_1*x['bfe4_1']+ \n",
    "                                       bfe4_2*x['bfe4_2']+ \n",
    "                                       bfe4_3*x['bfe4_3']+ \n",
    "                                       elv_sh*x['elv_sh']+ \n",
    "                                       slope*x['slope'], axis=1)\n",
    "\n",
    "# Global Regression\n",
    "b   = results_100_d.params[0]\n",
    "b_0 = results_100_d.params[1]\n",
    "b_1 = results_100_d.params[2]\n",
    "b_2 = results_100_d.params[3]\n",
    "b_3 = results_100_d.params[4]\n",
    "\n",
    "childstunt['g_100_d'] = childstunt.apply(lambda x: b*x['border_effect'] + \n",
    "                                       b_0*x['dist_mita_brdr_0']+\n",
    "                                       b_1*x['dist_mita_brdr_1']+\n",
    "                                       b_2*x['dist_mita_brdr_2']+\n",
    "                                       b_3*x['dist_mita_brdr_3'], axis=1)\n",
    "\n",
    "\n",
    "# Scatter Mean by dist_mita_brdr\n",
    "aux =  childstunt.groupby('dist_mita_brdr')[['dist_mita_brdr', 'stunt']].mean()\n",
    "\n",
    "plt.rcParams[\"figure.figsize\"]=12,8\n",
    "plt.scatter(aux['dist_mita_brdr'], aux['stunt'], s=1, label = 'clusted data')\n",
    "\n",
    "# Global Regression\n",
    "X = childstunt['dist_mita_brdr']\n",
    "Y = childstunt['g_100']\n",
    "plt.scatter(X, Y, s=1, label= 'regressed all data')\n",
    "plt.legend(loc='upper right')\n",
    "\n",
    "# Distance Based Regression\n",
    "X = childstunt['dist_mita_brdr']\n",
    "Y = childstunt['g_100_d']\n",
    "plt.scatter(X, Y, s=1, label= 'regressed dist data')\n",
    "plt.legend(loc='upper right')\n",
    "\n",
    "\n",
    "axes = plt.gca()\n",
    "axes.set_ylim([0,1])\n",
    "\n"
   ]
  },
  {
   "cell_type": "code",
   "execution_count": 312,
   "metadata": {},
   "outputs": [
    {
     "data": {
      "text/plain": [
       "<matplotlib.collections.PathCollection at 0x128d6309ee0>"
      ]
     },
     "execution_count": 312,
     "metadata": {},
     "output_type": "execute_result"
    },
    {
     "data": {
      "image/png": "[encoded data removed]",
      "text/plain": [
       "<Figure size 864x576 with 1 Axes>"
      ]
     },
     "metadata": {
      "needs_background": "light"
     },
     "output_type": "display_data"
    }
   ],
   "source": [
    "aux = childstunt.groupby('dist_mita_brdr')[['stunt']].mean()\n",
    "\n",
    "aux['dist_mita_brdr'] = aux.index\n",
    "#plot(kind='scatter', x='dist_mita_brdr', y='stunt')\n",
    "plt.scatter(aux['dist_mita_brdr'], aux['stunt'], s=5)"
   ]
  },
  {
   "cell_type": "code",
   "execution_count": 321,
   "metadata": {},
   "outputs": [
    {
     "data": {
      "text/markdown": [
       "**Stunt Results <100**"
      ],
      "text/plain": [
       "<IPython.core.display.Markdown object>"
      ]
     },
     "metadata": {},
     "output_type": "display_data"
    },
    {
     "name": "stdout",
     "output_type": "stream",
     "text": [
      "                            OLS Regression Results                            \n",
      "==============================================================================\n",
      "Dep. Variable:                  stunt   R-squared:                       0.200\n",
      "Model:                            OLS   Adj. R-squared:                  0.160\n",
      "Method:                 Least Squares   F-statistic:                     4.932\n",
      "Date:                Tue, 16 Feb 2021   Prob (F-statistic):           0.000155\n",
      "Time:                        19:13:59   Log-Likelihood:                 108.24\n",
      "No. Observations:                 125   AIC:                            -202.5\n",
      "Df Residuals:                     118   BIC:                            -182.7\n",
      "Df Model:                           6                                         \n",
      "Covariance Type:            nonrobust                                         \n",
      "====================================================================================\n",
      "                       coef    std err          t      P>|t|      [0.025      0.975]\n",
      "------------------------------------------------------------------------------------\n",
      "dist_mita_brdr_0     0.0960      0.175      0.548      0.584      -0.251       0.443\n",
      "dist_mita_brdr_1 -1.688e-05      0.001     -0.023      0.981      -0.001       0.001\n",
      "bfe4_1              -0.0506      0.027     -1.869      0.064      -0.104       0.003\n",
      "bfe4_2              -0.1235      0.033     -3.707      0.000      -0.189      -0.058\n",
      "bfe4_3               0.0380      0.030      1.275      0.205      -0.021       0.097\n",
      "elv_sh               0.0974      0.037      2.601      0.010       0.023       0.171\n",
      "slope               -0.0058      0.005     -1.131      0.260      -0.016       0.004\n",
      "==============================================================================\n",
      "Omnibus:                        4.662   Durbin-Watson:                   1.696\n",
      "Prob(Omnibus):                  0.097   Jarque-Bera (JB):                2.934\n",
      "Skew:                          -0.182   Prob(JB):                        0.231\n",
      "Kurtosis:                       2.344   Cond. No.                         589.\n",
      "==============================================================================\n",
      "\n",
      "Notes:\n",
      "[1] Standard Errors assume that the covariance matrix of the errors is correctly specified.\n",
      "                            OLS Regression Results                            \n",
      "==============================================================================\n",
      "Dep. Variable:                  stunt   R-squared:                       0.113\n",
      "Model:                            OLS   Adj. R-squared:                  0.029\n",
      "Method:                 Least Squares   F-statistic:                     1.343\n",
      "Date:                Tue, 16 Feb 2021   Prob (F-statistic):              0.252\n",
      "Time:                        19:13:59   Log-Likelihood:                 48.667\n",
      "No. Observations:                  70   AIC:                            -83.33\n",
      "Df Residuals:                      63   BIC:                            -67.60\n",
      "Df Model:                           6                                         \n",
      "Covariance Type:            nonrobust                                         \n",
      "====================================================================================\n",
      "                       coef    std err          t      P>|t|      [0.025      0.975]\n",
      "------------------------------------------------------------------------------------\n",
      "dist_mita_brdr_0     0.0241      0.216      0.112      0.912      -0.408       0.456\n",
      "dist_mita_brdr_1    -0.0019      0.001     -1.469      0.147      -0.005       0.001\n",
      "bfe4_1               0.0122      0.042      0.291      0.772      -0.072       0.096\n",
      "bfe4_2              -0.0982      0.066     -1.486      0.142      -0.230       0.034\n",
      "bfe4_3               0.0200      0.042      0.480      0.633      -0.063       0.103\n",
      "elv_sh               0.0899      0.050      1.785      0.079      -0.011       0.191\n",
      "slope                0.0059      0.005      1.109      0.272      -0.005       0.016\n",
      "==============================================================================\n",
      "Omnibus:                        0.263   Durbin-Watson:                   1.921\n",
      "Prob(Omnibus):                  0.877   Jarque-Bera (JB):                0.019\n",
      "Skew:                          -0.012   Prob(JB):                        0.991\n",
      "Kurtosis:                       3.076   Cond. No.                         358.\n",
      "==============================================================================\n",
      "\n",
      "Notes:\n",
      "[1] Standard Errors assume that the covariance matrix of the errors is correctly specified.\n"
     ]
    },
    {
     "data": {
      "text/markdown": [
       "**Border Effect**"
      ],
      "text/plain": [
       "<IPython.core.display.Markdown object>"
      ]
     },
     "metadata": {},
     "output_type": "display_data"
    },
    {
     "name": "stdout",
     "output_type": "stream",
     "text": [
      "0.07189716256340425\n"
     ]
    }
   ],
   "source": [
    "printmd(\"**Stunt Results <100**\")\n",
    "aux = childstunt[(abs(childstunt['dist_mita_brdr'])< border_size) & (childstunt['dist_mita_brdr']<0)]\n",
    "Y = aux['stunt']\n",
    "X = aux[['dist_mita_brdr_0', 'dist_mita_brdr_1',\n",
    "         'bfe4_1', 'bfe4_2', 'bfe4_3', 'elv_sh', 'slope']]\n",
    "\n",
    "results_100_1 = sm.OLS(Y,X).fit()\n",
    "print(results_100_1.summary())\n",
    "\n",
    "X = aux[['dist_mita_brdr_0', 'dist_mita_brdr_1']]\n",
    "X = aux[['dist_mita_brdr_0']]\n",
    "results_100_1_d = sm.OLS(Y,X).fit()\n",
    "\n",
    "\n",
    "aux = childstunt[(abs(childstunt['dist_mita_brdr'])< border_size) & (childstunt['dist_mita_brdr']>0)]\n",
    "Y = aux['stunt']\n",
    "X = aux[['dist_mita_brdr_0', 'dist_mita_brdr_1',\n",
    "         'bfe4_1', 'bfe4_2', 'bfe4_3', 'elv_sh', 'slope']]\n",
    "\n",
    "results_100_0 = sm.OLS(Y,X).fit()\n",
    "print(results_100_0.summary())     \n",
    "\n",
    "X = aux[['dist_mita_brdr_0', 'dist_mita_brdr_1']]\n",
    "\n",
    "results_100_0_d = sm.OLS(Y,X).fit()\n",
    "\n",
    "\n",
    "printmd(\"**Border Effect**\")\n",
    "print(results_100_1.params[0]- results_100_0.params[0])"
   ]
  },
  {
   "cell_type": "code",
   "execution_count": 322,
   "metadata": {},
   "outputs": [
    {
     "data": {
      "text/plain": [
       "<matplotlib.legend.Legend at 0x128cc3b3730>"
      ]
     },
     "execution_count": 322,
     "metadata": {},
     "output_type": "execute_result"
    },
    {
     "data": {
      "image/png": "[encoded data removed]",
      "text/plain": [
       "<Figure size 864x576 with 1 Axes>"
      ]
     },
     "metadata": {
      "needs_background": "light"
     },
     "output_type": "display_data"
    }
   ],
   "source": [
    "# Sided Regression Border 1\n",
    "b_0 = results_100_1.params[0]\n",
    "b_1 = results_100_1.params[1]\n",
    "bfe4_1 = results_100_1.params[2]\n",
    "bfe4_2 = results_100_1.params[3]\n",
    "bfe4_3 = results_100_1.params[4]\n",
    "elv_sh = results_100_1.params[5]\n",
    "slope = results_100_1.params[6]\n",
    "\n",
    "childstunt['g_100_1'] = childstunt.apply(lambda x: \n",
    "                                         b_0*x['dist_mita_brdr_0']+\n",
    "                                         b_1*x['dist_mita_brdr_1']+\n",
    "                                         bfe4_1*x['bfe4_1']+\n",
    "                                         bfe4_2*x['bfe4_2']+\n",
    "                                         bfe4_3*x['bfe4_3']+\n",
    "                                         elv_sh*x['elv_sh']+\n",
    "                                         slope*x['slope'], axis=1)\n",
    "\n",
    "# Sided Regression Border 0\n",
    "b_0 = results_100_0.params[0]\n",
    "b_1 = results_100_0.params[1]\n",
    "bfe4_1 = results_100_0.params[2]\n",
    "bfe4_2 = results_100_0.params[3]\n",
    "bfe4_3 = results_100_0.params[4]\n",
    "elv_sh = results_100_0.params[5]\n",
    "slope = results_100_0.params[6]\n",
    "\n",
    "childstunt['g_100_0'] = childstunt.apply(lambda x: \n",
    "                                         b_0*x['dist_mita_brdr_0']+\n",
    "                                         b_1*x['dist_mita_brdr_1']+\n",
    "                                         bfe4_1*x['bfe4_1']+\n",
    "                                         bfe4_2*x['bfe4_2']+\n",
    "                                         bfe4_3*x['bfe4_3']+\n",
    "                                         elv_sh*x['elv_sh']+\n",
    "                                         slope*x['slope'], axis=1)\n",
    "\n",
    "\n",
    "# Global Lineal\n",
    "b_0   = results_100_1_d.params[0]\n",
    "b_1 = 0# results_100_1_d.params[1]\n",
    "\n",
    "childstunt['g_100_1_d'] = childstunt.apply(lambda x: \n",
    "                                       b_0*x['dist_mita_brdr_0']+\n",
    "                                       b_1*x['dist_mita_brdr_1'], axis=1)\n",
    "\n",
    "b_0   = results_100_0_d.params[0]\n",
    "b_1 = results_100_0_d.params[1]\n",
    "\n",
    "childstunt['g_100_0_d'] = childstunt.apply(lambda x: \n",
    "                                       b_0*x['dist_mita_brdr_0']+\n",
    "                                       b_1*x['dist_mita_brdr_1'], axis=1)\n",
    "\n",
    "\n",
    "\n",
    "\n",
    "# Scatter Mean by dist_mita_brdr\n",
    "aux =  childstunt.groupby('dist_mita_brdr')[['dist_mita_brdr', 'stunt']].mean()\n",
    "\n",
    "plt.rcParams[\"figure.figsize\"]=12,8\n",
    "plt.scatter(aux['dist_mita_brdr'], aux['stunt'], s=1, label = 'clusted data')\n",
    "\n",
    "# Sided Regression\n",
    "X = childstunt[childstunt['dist_mita_brdr']>0]['dist_mita_brdr']\n",
    "Y = childstunt[childstunt['dist_mita_brdr']>0]['g_100_1']\n",
    "plt.scatter(X, Y, s=.1)\n",
    "\n",
    "X = childstunt[childstunt['dist_mita_brdr']<0]['dist_mita_brdr']\n",
    "Y = childstunt[childstunt['dist_mita_brdr']<0]['g_100_0']\n",
    "plt.scatter(X, Y, s=.1)\n",
    "\n",
    "X = childstunt[childstunt['dist_mita_brdr']>0]['dist_mita_brdr']\n",
    "Y = childstunt[childstunt['dist_mita_brdr']>0]['g_100_0_d']\n",
    "plt.scatter(X, Y, s=.1)\n",
    "\n",
    "X = childstunt[childstunt['dist_mita_brdr']<0]['dist_mita_brdr']\n",
    "Y = childstunt[childstunt['dist_mita_brdr']<0]['g_100_1_d']\n",
    "plt.scatter(X, Y, s=.1)\n",
    "\n",
    "plt.legend(loc='upper right')"
   ]
  },
  {
   "cell_type": "code",
   "execution_count": null,
   "metadata": {},
   "outputs": [],
   "source": []
  },
  {
   "cell_type": "code",
   "execution_count": null,
   "metadata": {},
   "outputs": [],
   "source": []
  },
  {
   "cell_type": "code",
   "execution_count": null,
   "metadata": {},
   "outputs": [],
   "source": []
  },
  {
   "cell_type": "code",
   "execution_count": null,
   "metadata": {},
   "outputs": [],
   "source": []
  },
  {
   "cell_type": "code",
   "execution_count": null,
   "metadata": {},
   "outputs": [],
   "source": []
  },
  {
   "cell_type": "code",
   "execution_count": null,
   "metadata": {},
   "outputs": [],
   "source": []
  },
  {
   "cell_type": "code",
   "execution_count": null,
   "metadata": {},
   "outputs": [],
   "source": []
  },
  {
   "cell_type": "code",
   "execution_count": null,
   "metadata": {},
   "outputs": [],
   "source": []
  },
  {
   "cell_type": "code",
   "execution_count": null,
   "metadata": {},
   "outputs": [],
   "source": []
  },
  {
   "cell_type": "code",
   "execution_count": null,
   "metadata": {},
   "outputs": [],
   "source": []
  },
  {
   "cell_type": "code",
   "execution_count": null,
   "metadata": {},
   "outputs": [],
   "source": []
  },
  {
   "cell_type": "code",
   "execution_count": null,
   "metadata": {},
   "outputs": [],
   "source": []
  },
  {
   "cell_type": "code",
   "execution_count": null,
   "metadata": {},
   "outputs": [],
   "source": []
  },
  {
   "cell_type": "code",
   "execution_count": 263,
   "metadata": {},
   "outputs": [
    {
     "data": {
      "text/markdown": [
       "**Stunt Results <100**"
      ],
      "text/plain": [
       "<IPython.core.display.Markdown object>"
      ]
     },
     "metadata": {},
     "output_type": "display_data"
    },
    {
     "data": {
      "text/markdown": [
       "**Border == 1**"
      ],
      "text/plain": [
       "<IPython.core.display.Markdown object>"
      ]
     },
     "metadata": {},
     "output_type": "display_data"
    },
    {
     "name": "stdout",
     "output_type": "stream",
     "text": [
      "                            OLS Regression Results                            \n",
      "==============================================================================\n",
      "Dep. Variable:                  stunt   R-squared:                       0.055\n",
      "Model:                            OLS   Adj. R-squared:                  0.041\n",
      "Method:                 Least Squares   F-statistic:                     3.883\n",
      "Date:                Tue, 16 Feb 2021   Prob (F-statistic):            0.00996\n",
      "Time:                        18:27:48   Log-Likelihood:                 160.64\n",
      "No. Observations:                 205   AIC:                            -313.3\n",
      "Df Residuals:                     201   BIC:                            -300.0\n",
      "Df Model:                           3                                         \n",
      "Covariance Type:            nonrobust                                         \n",
      "====================================================================================\n",
      "                       coef    std err          t      P>|t|      [0.025      0.975]\n",
      "------------------------------------------------------------------------------------\n",
      "dist_mita_brdr_0     0.3871      0.031     12.577      0.000       0.326       0.448\n",
      "dist_mita_brdr_1    -0.0040      0.003     -1.448      0.149      -0.009       0.001\n",
      "dist_mita_brdr_2    -0.0001   6.62e-05     -1.704      0.090      -0.000    1.77e-05\n",
      "dist_mita_brdr_3 -7.243e-07   4.51e-07     -1.606      0.110   -1.61e-06    1.65e-07\n",
      "==============================================================================\n",
      "Omnibus:                        3.355   Durbin-Watson:                   1.455\n",
      "Prob(Omnibus):                  0.187   Jarque-Bera (JB):                2.837\n",
      "Skew:                          -0.186   Prob(JB):                        0.242\n",
      "Kurtosis:                       2.560   Cond. No.                     1.28e+06\n",
      "==============================================================================\n",
      "\n",
      "Notes:\n",
      "[1] Standard Errors assume that the covariance matrix of the errors is correctly specified.\n",
      "[2] The condition number is large, 1.28e+06. This might indicate that there are\n",
      "strong multicollinearity or other numerical problems.\n"
     ]
    },
    {
     "data": {
      "text/markdown": [
       "**Border == 0**"
      ],
      "text/plain": [
       "<IPython.core.display.Markdown object>"
      ]
     },
     "metadata": {},
     "output_type": "display_data"
    },
    {
     "data": {
      "text/markdown": [
       "**Border Effect**"
      ],
      "text/plain": [
       "<IPython.core.display.Markdown object>"
      ]
     },
     "metadata": {},
     "output_type": "display_data"
    },
    {
     "name": "stdout",
     "output_type": "stream",
     "text": [
      "-0.023633477265971148\n"
     ]
    }
   ],
   "source": [
    "# < 100\n",
    "printmd(\"**Stunt Results <100**\")\n",
    "printmd(\"**Border == 1**\")\n",
    "aux = childstunt[abs(childstunt['dist_mita_brdr']) < 100]\n",
    "aux = aux[aux['dist_mita_brdr']<0]\n",
    "Y = aux['stunt']\n",
    "# We remove border variable // Now conditioned on border = 1 is a constant\n",
    "X = aux[['dist_mita_brdr_0', 'dist_mita_brdr_1', 'dist_mita_brdr_2', 'dist_mita_brdr_3', \n",
    "         'bfe4_1', 'bfe4_2', 'bfe4_3', 'elv_sh', 'slope', 'female']]\n",
    "X = aux[['dist_mita_brdr_0', 'dist_mita_brdr_1', 'dist_mita_brdr_2', 'dist_mita_brdr_3']]\n",
    "results_100_1 = sm.OLS(Y,X).fit()\n",
    "print(results_100_1.summary())\n",
    "\n",
    "printmd(\"**Border == 0**\")\n",
    "aux = childstunt[abs(childstunt['dist_mita_brdr']) < 100]\n",
    "aux[aux['dist_mita_brdr']>0]\n",
    "Y = aux['stunt']\n",
    "# We remove border variable // Now conditioned on border = 1 is a constant\n",
    "X = aux[['dist_mita_brdr_0', 'dist_mita_brdr_1', 'dist_mita_brdr_2', 'dist_mita_brdr_3', \n",
    "         'bfe4_1', 'bfe4_2', 'bfe4_3', 'elv_sh', 'slope', 'female']]\n",
    "X = aux[['dist_mita_brdr_0', 'dist_mita_brdr_1', 'dist_mita_brdr_2', 'dist_mita_brdr_3']]\n",
    "results_100_0 = sm.OLS(Y,X).fit()\n",
    "#print(results_100_0.summary())\n",
    "\n",
    "printmd(\"**Border Effect**\")\n",
    "print(results_100_1.params[0]- results_100_0.params[0])"
   ]
  },
  {
   "cell_type": "code",
   "execution_count": 264,
   "metadata": {},
   "outputs": [
    {
     "data": {
      "text/plain": [
       "[<matplotlib.lines.Line2D at 0x128cfd6aa60>]"
      ]
     },
     "execution_count": 264,
     "metadata": {},
     "output_type": "execute_result"
    },
    {
     "data": {
      "image/png": "[encoded data removed]",
      "text/plain": [
       "<Figure size 864x576 with 1 Axes>"
      ]
     },
     "metadata": {
      "needs_background": "light"
     },
     "output_type": "display_data"
    }
   ],
   "source": [
    "childstunt = pd.read_stata('delldata_childstunt.dta')\n",
    "\n",
    "aux = childstunt.groupby('dist_mita_brdr')[['stunt']].mean()\n",
    "\n",
    "aux['dist_mita_brdr'] = aux.index\n",
    "#plot(kind='scatter', x='dist_mita_brdr', y='stunt')\n",
    "plt.scatter(aux['dist_mita_brdr'], aux['stunt'])\n",
    "plt.scatter(aux['dist_mita_brdr']+10, aux['stunt'])\n",
    "plt.plot([-10, 10], [.4, .4])"
   ]
  },
  {
   "cell_type": "markdown",
   "metadata": {},
   "source": [
    "## Drawing"
   ]
  },
  {
   "cell_type": "code",
   "execution_count": 265,
   "metadata": {},
   "outputs": [
    {
     "data": {
      "text/plain": [
       "[<matplotlib.lines.Line2D at 0x128cea21760>]"
      ]
     },
     "execution_count": 265,
     "metadata": {},
     "output_type": "execute_result"
    },
    {
     "data": {
      "image/png": "[encoded data removed]",
      "text/plain": [
       "<Figure size 864x576 with 1 Axes>"
      ]
     },
     "metadata": {
      "needs_background": "light"
     },
     "output_type": "display_data"
    }
   ],
   "source": [
    "childstunt = pd.read_stata('delldata_childstunt.dta')\n",
    "\n",
    "aux = childstunt.groupby('dist_mita_brdr')[['stunt']].mean()\n",
    "\n",
    "# Scatter \n",
    "aux['dist_mita_brdr'] = aux.index\n",
    "plt.scatter(aux['dist_mita_brdr'], aux['stunt'])\n",
    "\n",
    "\n",
    "\n",
    "plt.scatter(aux['dist_mita_brdr']+10, aux['stunt'])\n",
    "plt.plot([-10, 10], [.4, .4])"
   ]
  },
  {
   "cell_type": "code",
   "execution_count": 266,
   "metadata": {},
   "outputs": [
    {
     "name": "stdout",
     "output_type": "stream",
     "text": [
      "                            OLS Regression Results                            \n",
      "==============================================================================\n",
      "Dep. Variable:                  stunt   R-squared:                       0.010\n",
      "Model:                            OLS   Adj. R-squared:                  0.010\n",
      "Method:                 Least Squares   F-statistic:                     133.8\n",
      "Date:                Tue, 16 Feb 2021   Prob (F-statistic):           3.12e-86\n",
      "Time:                        18:27:48   Log-Likelihood:                -27732.\n",
      "No. Observations:               39651   AIC:                         5.547e+04\n",
      "Df Residuals:                   39647   BIC:                         5.551e+04\n",
      "Df Model:                           3                                         \n",
      "Covariance Type:            nonrobust                                         \n",
      "====================================================================================\n",
      "                       coef    std err          t      P>|t|      [0.025      0.975]\n",
      "------------------------------------------------------------------------------------\n",
      "dist_mita_brdr_0     0.4043      0.003    126.268      0.000       0.398       0.411\n",
      "dist_mita_brdr_1    -0.0060      0.000    -18.403      0.000      -0.007      -0.005\n",
      "dist_mita_brdr_2 -4.355e-05   1.05e-05     -4.162      0.000   -6.41e-05    -2.3e-05\n",
      "dist_mita_brdr_3  1.065e-05   5.41e-07     19.706      0.000    9.59e-06    1.17e-05\n",
      "==============================================================================\n",
      "Omnibus:                   157611.958   Durbin-Watson:                   1.868\n",
      "Prob(Omnibus):                  0.000   Jarque-Bera (JB):             6387.699\n",
      "Skew:                           0.408   Prob(JB):                         0.00\n",
      "Kurtosis:                       1.211   Cond. No.                     1.10e+04\n",
      "==============================================================================\n",
      "\n",
      "Notes:\n",
      "[1] Standard Errors assume that the covariance matrix of the errors is correctly specified.\n",
      "[2] The condition number is large, 1.1e+04. This might indicate that there are\n",
      "strong multicollinearity or other numerical problems.\n"
     ]
    }
   ],
   "source": [
    "childstunt = pd.read_stata('delldata_childstunt.dta')\n",
    "data_consumption  = pd.read_stata('delldata_consumption.dta')\n",
    "\n",
    "childstunt = childstunt[abs(childstunt['dist_mita_brdr'])<50]\n",
    "childstunt = childstunt[childstunt['border']==1]\n",
    "\n",
    "childstunt['dist_mita_brdr_0'] = childstunt['dist_mita_brdr'].apply(lambda x: 1)\n",
    "childstunt['dist_mita_brdr_1'] = childstunt['dist_mita_brdr'].apply(lambda x: x)\n",
    "childstunt['dist_mita_brdr_2'] = childstunt['dist_mita_brdr'].apply(lambda x: x**2)\n",
    "childstunt['dist_mita_brdr_3'] = childstunt['dist_mita_brdr'].apply(lambda x: x**3)\n",
    "\n",
    "\n",
    "childstunt.pop('stunt_sev')\n",
    "childstunt.pop('distr')\n",
    "childstunt.pop('cusco')\n",
    "childstunt.pop('dist_mita_brdr')\n",
    "childstunt.pop('border')\n",
    "\n",
    "if False:\n",
    "    childstunt.pop('slope')\n",
    "    childstunt.pop('female')\n",
    "    childstunt.pop('bfe4_1')\n",
    "    childstunt.pop('border')\n",
    "\n",
    "Y = childstunt.pop('stunt')\n",
    "X = childstunt[['dist_mita_brdr_0', 'dist_mita_brdr_1', 'dist_mita_brdr_2', 'dist_mita_brdr_3']]\n",
    "#X = childstunt\n",
    "\n",
    "results = sm.OLS(Y,X).fit()\n",
    "print(results.summary())"
   ]
  },
  {
   "cell_type": "code",
   "execution_count": 267,
   "metadata": {},
   "outputs": [
    {
     "data": {
      "text/plain": [
       "dist_mita_brdr_0    0.404309\n",
       "dist_mita_brdr_1   -0.006022\n",
       "dist_mita_brdr_2   -0.000044\n",
       "dist_mita_brdr_3    0.000011\n",
       "dtype: float64"
      ]
     },
     "execution_count": 267,
     "metadata": {},
     "output_type": "execute_result"
    }
   ],
   "source": [
    "results.params"
   ]
  },
  {
   "cell_type": "code",
   "execution_count": 268,
   "metadata": {
    "scrolled": true
   },
   "outputs": [
    {
     "data": {
      "text/html": [
       "<div>\n",
       "<style scoped>\n",
       "    .dataframe tbody tr th:only-of-type {\n",
       "        vertical-align: middle;\n",
       "    }\n",
       "\n",
       "    .dataframe tbody tr th {\n",
       "        vertical-align: top;\n",
       "    }\n",
       "\n",
       "    .dataframe thead th {\n",
       "        text-align: right;\n",
       "    }\n",
       "</style>\n",
       "<table border=\"1\" class=\"dataframe\">\n",
       "  <thead>\n",
       "    <tr style=\"text-align: right;\">\n",
       "      <th></th>\n",
       "      <th>bfe4_1</th>\n",
       "      <th>bfe4_2</th>\n",
       "      <th>bfe4_3</th>\n",
       "      <th>elv_sh</th>\n",
       "      <th>slope</th>\n",
       "      <th>female</th>\n",
       "      <th>dist_mita_brdr_0</th>\n",
       "      <th>dist_mita_brdr_1</th>\n",
       "      <th>dist_mita_brdr_2</th>\n",
       "      <th>dist_mita_brdr_3</th>\n",
       "    </tr>\n",
       "  </thead>\n",
       "  <tbody>\n",
       "    <tr>\n",
       "      <th>0</th>\n",
       "      <td>0.0</td>\n",
       "      <td>0.0</td>\n",
       "      <td>1.0</td>\n",
       "      <td>3.31417</td>\n",
       "      <td>13.9305</td>\n",
       "      <td>-1.0</td>\n",
       "      <td>1</td>\n",
       "      <td>6.092747</td>\n",
       "      <td>37.121569</td>\n",
       "      <td>226.172333</td>\n",
       "    </tr>\n",
       "    <tr>\n",
       "      <th>1</th>\n",
       "      <td>0.0</td>\n",
       "      <td>0.0</td>\n",
       "      <td>1.0</td>\n",
       "      <td>3.31417</td>\n",
       "      <td>13.9305</td>\n",
       "      <td>0.0</td>\n",
       "      <td>1</td>\n",
       "      <td>6.092747</td>\n",
       "      <td>37.121569</td>\n",
       "      <td>226.172333</td>\n",
       "    </tr>\n",
       "    <tr>\n",
       "      <th>2</th>\n",
       "      <td>0.0</td>\n",
       "      <td>0.0</td>\n",
       "      <td>1.0</td>\n",
       "      <td>3.31417</td>\n",
       "      <td>13.9305</td>\n",
       "      <td>0.0</td>\n",
       "      <td>1</td>\n",
       "      <td>6.092747</td>\n",
       "      <td>37.121569</td>\n",
       "      <td>226.172333</td>\n",
       "    </tr>\n",
       "    <tr>\n",
       "      <th>3</th>\n",
       "      <td>0.0</td>\n",
       "      <td>0.0</td>\n",
       "      <td>1.0</td>\n",
       "      <td>3.31417</td>\n",
       "      <td>13.9305</td>\n",
       "      <td>-1.0</td>\n",
       "      <td>1</td>\n",
       "      <td>6.092747</td>\n",
       "      <td>37.121569</td>\n",
       "      <td>226.172333</td>\n",
       "    </tr>\n",
       "    <tr>\n",
       "      <th>4</th>\n",
       "      <td>0.0</td>\n",
       "      <td>0.0</td>\n",
       "      <td>1.0</td>\n",
       "      <td>3.31417</td>\n",
       "      <td>13.9305</td>\n",
       "      <td>-1.0</td>\n",
       "      <td>1</td>\n",
       "      <td>6.092747</td>\n",
       "      <td>37.121569</td>\n",
       "      <td>226.172333</td>\n",
       "    </tr>\n",
       "  </tbody>\n",
       "</table>\n",
       "</div>"
      ],
      "text/plain": [
       "   bfe4_1  bfe4_2  bfe4_3   elv_sh    slope  female  dist_mita_brdr_0  \\\n",
       "0     0.0     0.0     1.0  3.31417  13.9305    -1.0                 1   \n",
       "1     0.0     0.0     1.0  3.31417  13.9305     0.0                 1   \n",
       "2     0.0     0.0     1.0  3.31417  13.9305     0.0                 1   \n",
       "3     0.0     0.0     1.0  3.31417  13.9305    -1.0                 1   \n",
       "4     0.0     0.0     1.0  3.31417  13.9305    -1.0                 1   \n",
       "\n",
       "   dist_mita_brdr_1  dist_mita_brdr_2  dist_mita_brdr_3  \n",
       "0          6.092747         37.121569        226.172333  \n",
       "1          6.092747         37.121569        226.172333  \n",
       "2          6.092747         37.121569        226.172333  \n",
       "3          6.092747         37.121569        226.172333  \n",
       "4          6.092747         37.121569        226.172333  "
      ]
     },
     "execution_count": 268,
     "metadata": {},
     "output_type": "execute_result"
    }
   ],
   "source": [
    "childstunt.head()"
   ]
  },
  {
   "cell_type": "markdown",
   "metadata": {},
   "source": [
    "## Exercise 5"
   ]
  },
  {
   "cell_type": "markdown",
   "metadata": {},
   "source": [
    "## Exercise 6"
   ]
  },
  {
   "cell_type": "markdown",
   "metadata": {},
   "source": [
    "## Exercise 7"
   ]
  },
  {
   "cell_type": "code",
   "execution_count": null,
   "metadata": {},
   "outputs": [],
   "source": []
  },
  {
   "cell_type": "code",
   "execution_count": null,
   "metadata": {},
   "outputs": [],
   "source": []
  },
  {
   "cell_type": "code",
   "execution_count": 269,
   "metadata": {},
   "outputs": [],
   "source": [
    "\n",
    "\n",
    "\n",
    "#data['eligible'] = data['eligible'].astype(float)\n",
    "\n",
    "#Y = data['earnings']\n",
    "#X = data['veteran']\n",
    "#X = sm.add_constant(X)"
   ]
  },
  {
   "cell_type": "code",
   "execution_count": 270,
   "metadata": {},
   "outputs": [
    {
     "ename": "PermissionError",
     "evalue": "[Errno 13] Permission denied: 'childstunt.csv'",
     "output_type": "error",
     "traceback": [
      "\u001b[1;31m---------------------------------------------------------------------------\u001b[0m",
      "\u001b[1;31mPermissionError\u001b[0m                           Traceback (most recent call last)",
      "\u001b[1;32m<ipython-input-270-f964e50edfa9>\u001b[0m in \u001b[0;36m<module>\u001b[1;34m\u001b[0m\n\u001b[1;32m----> 1\u001b[1;33m \u001b[0mchildstunt\u001b[0m\u001b[1;33m.\u001b[0m\u001b[0mto_csv\u001b[0m\u001b[1;33m(\u001b[0m\u001b[1;34m'childstunt.csv'\u001b[0m\u001b[1;33m)\u001b[0m\u001b[1;33m\u001b[0m\u001b[1;33m\u001b[0m\u001b[0m\n\u001b[0m",
      "\u001b[1;32m~\\anaconda3\\lib\\site-packages\\pandas\\core\\generic.py\u001b[0m in \u001b[0;36mto_csv\u001b[1;34m(self, path_or_buf, sep, na_rep, float_format, columns, header, index, index_label, mode, encoding, compression, quoting, quotechar, line_terminator, chunksize, date_format, doublequote, escapechar, decimal, errors)\u001b[0m\n\u001b[0;32m   3168\u001b[0m             \u001b[0mdecimal\u001b[0m\u001b[1;33m=\u001b[0m\u001b[0mdecimal\u001b[0m\u001b[1;33m,\u001b[0m\u001b[1;33m\u001b[0m\u001b[1;33m\u001b[0m\u001b[0m\n\u001b[0;32m   3169\u001b[0m         )\n\u001b[1;32m-> 3170\u001b[1;33m         \u001b[0mformatter\u001b[0m\u001b[1;33m.\u001b[0m\u001b[0msave\u001b[0m\u001b[1;33m(\u001b[0m\u001b[1;33m)\u001b[0m\u001b[1;33m\u001b[0m\u001b[1;33m\u001b[0m\u001b[0m\n\u001b[0m\u001b[0;32m   3171\u001b[0m \u001b[1;33m\u001b[0m\u001b[0m\n\u001b[0;32m   3172\u001b[0m         \u001b[1;32mif\u001b[0m \u001b[0mpath_or_buf\u001b[0m \u001b[1;32mis\u001b[0m \u001b[1;32mNone\u001b[0m\u001b[1;33m:\u001b[0m\u001b[1;33m\u001b[0m\u001b[1;33m\u001b[0m\u001b[0m\n",
      "\u001b[1;32m~\\anaconda3\\lib\\site-packages\\pandas\\io\\formats\\csvs.py\u001b[0m in \u001b[0;36msave\u001b[1;34m(self)\u001b[0m\n\u001b[0;32m    183\u001b[0m             \u001b[0mclose\u001b[0m \u001b[1;33m=\u001b[0m \u001b[1;32mFalse\u001b[0m\u001b[1;33m\u001b[0m\u001b[1;33m\u001b[0m\u001b[0m\n\u001b[0;32m    184\u001b[0m         \u001b[1;32melse\u001b[0m\u001b[1;33m:\u001b[0m\u001b[1;33m\u001b[0m\u001b[1;33m\u001b[0m\u001b[0m\n\u001b[1;32m--> 185\u001b[1;33m             f, handles = get_handle(\n\u001b[0m\u001b[0;32m    186\u001b[0m                 \u001b[0mself\u001b[0m\u001b[1;33m.\u001b[0m\u001b[0mpath_or_buf\u001b[0m\u001b[1;33m,\u001b[0m\u001b[1;33m\u001b[0m\u001b[1;33m\u001b[0m\u001b[0m\n\u001b[0;32m    187\u001b[0m                 \u001b[0mself\u001b[0m\u001b[1;33m.\u001b[0m\u001b[0mmode\u001b[0m\u001b[1;33m,\u001b[0m\u001b[1;33m\u001b[0m\u001b[1;33m\u001b[0m\u001b[0m\n",
      "\u001b[1;32m~\\anaconda3\\lib\\site-packages\\pandas\\io\\common.py\u001b[0m in \u001b[0;36mget_handle\u001b[1;34m(path_or_buf, mode, encoding, compression, memory_map, is_text, errors)\u001b[0m\n\u001b[0;32m    491\u001b[0m         \u001b[1;32mif\u001b[0m \u001b[0mencoding\u001b[0m\u001b[1;33m:\u001b[0m\u001b[1;33m\u001b[0m\u001b[1;33m\u001b[0m\u001b[0m\n\u001b[0;32m    492\u001b[0m             \u001b[1;31m# Encoding\u001b[0m\u001b[1;33m\u001b[0m\u001b[1;33m\u001b[0m\u001b[1;33m\u001b[0m\u001b[0m\n\u001b[1;32m--> 493\u001b[1;33m             \u001b[0mf\u001b[0m \u001b[1;33m=\u001b[0m \u001b[0mopen\u001b[0m\u001b[1;33m(\u001b[0m\u001b[0mpath_or_buf\u001b[0m\u001b[1;33m,\u001b[0m \u001b[0mmode\u001b[0m\u001b[1;33m,\u001b[0m \u001b[0mencoding\u001b[0m\u001b[1;33m=\u001b[0m\u001b[0mencoding\u001b[0m\u001b[1;33m,\u001b[0m \u001b[0merrors\u001b[0m\u001b[1;33m=\u001b[0m\u001b[0merrors\u001b[0m\u001b[1;33m,\u001b[0m \u001b[0mnewline\u001b[0m\u001b[1;33m=\u001b[0m\u001b[1;34m\"\"\u001b[0m\u001b[1;33m)\u001b[0m\u001b[1;33m\u001b[0m\u001b[1;33m\u001b[0m\u001b[0m\n\u001b[0m\u001b[0;32m    494\u001b[0m         \u001b[1;32melif\u001b[0m \u001b[0mis_text\u001b[0m\u001b[1;33m:\u001b[0m\u001b[1;33m\u001b[0m\u001b[1;33m\u001b[0m\u001b[0m\n\u001b[0;32m    495\u001b[0m             \u001b[1;31m# No explicit encoding\u001b[0m\u001b[1;33m\u001b[0m\u001b[1;33m\u001b[0m\u001b[1;33m\u001b[0m\u001b[0m\n",
      "\u001b[1;31mPermissionError\u001b[0m: [Errno 13] Permission denied: 'childstunt.csv'"
     ]
    }
   ],
   "source": [
    "childstunt.to_csv('childstunt.csv')"
   ]
  },
  {
   "cell_type": "code",
   "execution_count": null,
   "metadata": {},
   "outputs": [],
   "source": [
    "data_consumption.to_csv('data_consumption.csv')"
   ]
  }
 ],
 "metadata": {
  "kernelspec": {
   "display_name": "Python 3",
   "language": "python",
   "name": "python3"
  },
  "language_info": {
   "codemirror_mode": {
    "name": "ipython",
    "version": 3
   },
   "file_extension": ".py",
   "mimetype": "text/x-python",
   "name": "python",
   "nbconvert_exporter": "python",
   "pygments_lexer": "ipython3",
   "version": "3.8.5"
  }
 },
 "nbformat": 4,
 "nbformat_minor": 4
}
